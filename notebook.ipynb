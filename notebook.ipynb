{
 "cells": [
  {
   "cell_type": "markdown",
   "id": "raised-british",
   "metadata": {},
   "source": [
    "# Construisez un modèle de scoring"
   ]
  },
  {
   "cell_type": "markdown",
   "id": "cheap-drinking",
   "metadata": {},
   "source": [
    "## Problématique métier"
   ]
  },
  {
   "cell_type": "markdown",
   "id": "golden-precipitation",
   "metadata": {},
   "source": [
    "L'objectif est de construire et comparer les performances de plusieurs modèles de scoring déterminants la capacité d'un emprunteur à rembourser un prêt. Ces modèles doivent être facilement interprétables car ils s'adressent à notre client, une société financière nommée \"Prêt à dépenser\". Une mesure de l'importance des variables sera réalisée pour que le client puisse analyser a posteriori la contribution des différentes variables retenues."
   ]
  },
  {
   "cell_type": "markdown",
   "id": "established-ambassador",
   "metadata": {},
   "source": [
    "## Description du jeu de données"
   ]
  },
  {
   "cell_type": "markdown",
   "id": "twelve-employee",
   "metadata": {},
   "source": [
    "**Le jeu de données provient de Home Credit, une société financière fournissant des prêts à des personnes qui disposent de peu d'historique. Les données sont partitionnées dans les fichiers suivants:**\n",
    "\n",
    "* application_{train|test}.csv:\n",
    "\n",
    "  Il s'agit des tables principales: une ligne correspond à un prêt. Les données sont séparées en jeux d'entraînement et de test.\n",
    "\n",
    "\n",
    "* bureau.csv\n",
    "\n",
    "  Historique disponible des anciens prêts accordés aux individus de notre échantillon.\n",
    "  Chaque ligne correspond à un ancien prêts.\n",
    "\n",
    "\n",
    "* bureau_balance.csv\n",
    "\n",
    "  Il s'agit de l'historique individuel mensuel de chaque emprunt présent dans bureau.csv.\n",
    "  Chaque ligne correspond à un mois d'historique d'un emprunt.\n",
    "\n",
    "\n",
    "* POS_CASH_balance.csv\n",
    "\n",
    "  Historique du solde mensuel des emprunteurs de notre échantillon.\n",
    "  Chaque ligne correspond à un mois d'historique d'un prêt.\n",
    "  \n",
    "\n",
    "* credit_card_balance.csv\n",
    "\n",
    "  Historique du solde mensuel des cartes de crédit des clients de Home Credit présents dans notre échantillon.\n",
    "  Chaque ligne correspond à un mois d'historique d'un compte.\n",
    "\n",
    "\n",
    "* previous_application.csv\n",
    "\n",
    "  Historique des demandes d'emprunt (acceptées ou non).\n",
    "  Une ligne correspond à une demande.\n",
    "\n",
    "\n",
    "* installments_payments.csv\n",
    "\n",
    "  Historique des versements des crédit précedemment attribués.\n",
    "  Une ligne correspond à un versement.\n",
    "\n",
    "\n",
    "* HomeCredit_columns_description.csv\n",
    "\n",
    "  Description de chaque colonne de chaque fichier.\n",
    "\n",
    "<br>\n",
    "\n",
    "\n",
    "**Ce diagramme présente les relations entre les données:**\n",
    "\n",
    "![image](https://storage.googleapis.com/kaggle-media/competitions/home-credit/home_credit.png)"
   ]
  },
  {
   "cell_type": "code",
   "execution_count": 28,
   "id": "minor-honor",
   "metadata": {},
   "outputs": [],
   "source": [
    "import os\n",
    "import numpy as np\n",
    "import pandas as pd\n",
    "import gc\n",
    "from sklearn import svm\n",
    "from sklearn.preprocessing import LabelEncoder, MinMaxScaler\n",
    "from sklearn.linear_model import LogisticRegression\n",
    "from sklearn.impute import SimpleImputer\n",
    "from sklearn.metrics import roc_auc_score, roc_curve\n",
    "from sklearn.model_selection import train_test_split, GridSearchCV, cross_val_score\n",
    "from sklearn.ensemble import RandomForestClassifier\n",
    "from lightgbm import LGBMClassifier\n",
    "from imblearn.over_sampling import SMOTE\n",
    "import matplotlib.pyplot as plt\n",
    "import seaborn as sns\n",
    "import warnings\n",
    "warnings.filterwarnings('ignore')\n",
    "n_features = 5\n",
    "# debug\n",
    "debug = False"
   ]
  },
  {
   "cell_type": "code",
   "execution_count": 29,
   "id": "spare-arctic",
   "metadata": {},
   "outputs": [
    {
     "name": "stdout",
     "output_type": "stream",
     "text": [
      "Le jeu d'entrainement comporte 10000 lignes et 122 colonnes.\n"
     ]
    },
    {
     "data": {
      "text/html": [
       "<div>\n",
       "<style scoped>\n",
       "    .dataframe tbody tr th:only-of-type {\n",
       "        vertical-align: middle;\n",
       "    }\n",
       "\n",
       "    .dataframe tbody tr th {\n",
       "        vertical-align: top;\n",
       "    }\n",
       "\n",
       "    .dataframe thead th {\n",
       "        text-align: right;\n",
       "    }\n",
       "</style>\n",
       "<table border=\"1\" class=\"dataframe\">\n",
       "  <thead>\n",
       "    <tr style=\"text-align: right;\">\n",
       "      <th></th>\n",
       "      <th>SK_ID_CURR</th>\n",
       "      <th>TARGET</th>\n",
       "      <th>NAME_CONTRACT_TYPE</th>\n",
       "      <th>CODE_GENDER</th>\n",
       "      <th>FLAG_OWN_CAR</th>\n",
       "      <th>FLAG_OWN_REALTY</th>\n",
       "      <th>CNT_CHILDREN</th>\n",
       "      <th>AMT_INCOME_TOTAL</th>\n",
       "      <th>AMT_CREDIT</th>\n",
       "      <th>AMT_ANNUITY</th>\n",
       "      <th>...</th>\n",
       "      <th>FLAG_DOCUMENT_18</th>\n",
       "      <th>FLAG_DOCUMENT_19</th>\n",
       "      <th>FLAG_DOCUMENT_20</th>\n",
       "      <th>FLAG_DOCUMENT_21</th>\n",
       "      <th>AMT_REQ_CREDIT_BUREAU_HOUR</th>\n",
       "      <th>AMT_REQ_CREDIT_BUREAU_DAY</th>\n",
       "      <th>AMT_REQ_CREDIT_BUREAU_WEEK</th>\n",
       "      <th>AMT_REQ_CREDIT_BUREAU_MON</th>\n",
       "      <th>AMT_REQ_CREDIT_BUREAU_QRT</th>\n",
       "      <th>AMT_REQ_CREDIT_BUREAU_YEAR</th>\n",
       "    </tr>\n",
       "  </thead>\n",
       "  <tbody>\n",
       "    <tr>\n",
       "      <th>0</th>\n",
       "      <td>100002</td>\n",
       "      <td>1</td>\n",
       "      <td>Cash loans</td>\n",
       "      <td>M</td>\n",
       "      <td>N</td>\n",
       "      <td>Y</td>\n",
       "      <td>0</td>\n",
       "      <td>202500.0</td>\n",
       "      <td>406597.5</td>\n",
       "      <td>24700.5</td>\n",
       "      <td>...</td>\n",
       "      <td>0</td>\n",
       "      <td>0</td>\n",
       "      <td>0</td>\n",
       "      <td>0</td>\n",
       "      <td>0.0</td>\n",
       "      <td>0.0</td>\n",
       "      <td>0.0</td>\n",
       "      <td>0.0</td>\n",
       "      <td>0.0</td>\n",
       "      <td>1.0</td>\n",
       "    </tr>\n",
       "    <tr>\n",
       "      <th>1</th>\n",
       "      <td>100003</td>\n",
       "      <td>0</td>\n",
       "      <td>Cash loans</td>\n",
       "      <td>F</td>\n",
       "      <td>N</td>\n",
       "      <td>N</td>\n",
       "      <td>0</td>\n",
       "      <td>270000.0</td>\n",
       "      <td>1293502.5</td>\n",
       "      <td>35698.5</td>\n",
       "      <td>...</td>\n",
       "      <td>0</td>\n",
       "      <td>0</td>\n",
       "      <td>0</td>\n",
       "      <td>0</td>\n",
       "      <td>0.0</td>\n",
       "      <td>0.0</td>\n",
       "      <td>0.0</td>\n",
       "      <td>0.0</td>\n",
       "      <td>0.0</td>\n",
       "      <td>0.0</td>\n",
       "    </tr>\n",
       "    <tr>\n",
       "      <th>2</th>\n",
       "      <td>100004</td>\n",
       "      <td>0</td>\n",
       "      <td>Revolving loans</td>\n",
       "      <td>M</td>\n",
       "      <td>Y</td>\n",
       "      <td>Y</td>\n",
       "      <td>0</td>\n",
       "      <td>67500.0</td>\n",
       "      <td>135000.0</td>\n",
       "      <td>6750.0</td>\n",
       "      <td>...</td>\n",
       "      <td>0</td>\n",
       "      <td>0</td>\n",
       "      <td>0</td>\n",
       "      <td>0</td>\n",
       "      <td>0.0</td>\n",
       "      <td>0.0</td>\n",
       "      <td>0.0</td>\n",
       "      <td>0.0</td>\n",
       "      <td>0.0</td>\n",
       "      <td>0.0</td>\n",
       "    </tr>\n",
       "    <tr>\n",
       "      <th>3</th>\n",
       "      <td>100006</td>\n",
       "      <td>0</td>\n",
       "      <td>Cash loans</td>\n",
       "      <td>F</td>\n",
       "      <td>N</td>\n",
       "      <td>Y</td>\n",
       "      <td>0</td>\n",
       "      <td>135000.0</td>\n",
       "      <td>312682.5</td>\n",
       "      <td>29686.5</td>\n",
       "      <td>...</td>\n",
       "      <td>0</td>\n",
       "      <td>0</td>\n",
       "      <td>0</td>\n",
       "      <td>0</td>\n",
       "      <td>NaN</td>\n",
       "      <td>NaN</td>\n",
       "      <td>NaN</td>\n",
       "      <td>NaN</td>\n",
       "      <td>NaN</td>\n",
       "      <td>NaN</td>\n",
       "    </tr>\n",
       "    <tr>\n",
       "      <th>4</th>\n",
       "      <td>100007</td>\n",
       "      <td>0</td>\n",
       "      <td>Cash loans</td>\n",
       "      <td>M</td>\n",
       "      <td>N</td>\n",
       "      <td>Y</td>\n",
       "      <td>0</td>\n",
       "      <td>121500.0</td>\n",
       "      <td>513000.0</td>\n",
       "      <td>21865.5</td>\n",
       "      <td>...</td>\n",
       "      <td>0</td>\n",
       "      <td>0</td>\n",
       "      <td>0</td>\n",
       "      <td>0</td>\n",
       "      <td>0.0</td>\n",
       "      <td>0.0</td>\n",
       "      <td>0.0</td>\n",
       "      <td>0.0</td>\n",
       "      <td>0.0</td>\n",
       "      <td>0.0</td>\n",
       "    </tr>\n",
       "  </tbody>\n",
       "</table>\n",
       "<p>5 rows × 122 columns</p>\n",
       "</div>"
      ],
      "text/plain": [
       "   SK_ID_CURR  TARGET NAME_CONTRACT_TYPE CODE_GENDER FLAG_OWN_CAR  \\\n",
       "0      100002       1         Cash loans           M            N   \n",
       "1      100003       0         Cash loans           F            N   \n",
       "2      100004       0    Revolving loans           M            Y   \n",
       "3      100006       0         Cash loans           F            N   \n",
       "4      100007       0         Cash loans           M            N   \n",
       "\n",
       "  FLAG_OWN_REALTY  CNT_CHILDREN  AMT_INCOME_TOTAL  AMT_CREDIT  AMT_ANNUITY  \\\n",
       "0               Y             0          202500.0    406597.5      24700.5   \n",
       "1               N             0          270000.0   1293502.5      35698.5   \n",
       "2               Y             0           67500.0    135000.0       6750.0   \n",
       "3               Y             0          135000.0    312682.5      29686.5   \n",
       "4               Y             0          121500.0    513000.0      21865.5   \n",
       "\n",
       "   ...  FLAG_DOCUMENT_18 FLAG_DOCUMENT_19 FLAG_DOCUMENT_20 FLAG_DOCUMENT_21  \\\n",
       "0  ...                 0                0                0                0   \n",
       "1  ...                 0                0                0                0   \n",
       "2  ...                 0                0                0                0   \n",
       "3  ...                 0                0                0                0   \n",
       "4  ...                 0                0                0                0   \n",
       "\n",
       "  AMT_REQ_CREDIT_BUREAU_HOUR AMT_REQ_CREDIT_BUREAU_DAY  \\\n",
       "0                        0.0                       0.0   \n",
       "1                        0.0                       0.0   \n",
       "2                        0.0                       0.0   \n",
       "3                        NaN                       NaN   \n",
       "4                        0.0                       0.0   \n",
       "\n",
       "   AMT_REQ_CREDIT_BUREAU_WEEK  AMT_REQ_CREDIT_BUREAU_MON  \\\n",
       "0                         0.0                        0.0   \n",
       "1                         0.0                        0.0   \n",
       "2                         0.0                        0.0   \n",
       "3                         NaN                        NaN   \n",
       "4                         0.0                        0.0   \n",
       "\n",
       "   AMT_REQ_CREDIT_BUREAU_QRT  AMT_REQ_CREDIT_BUREAU_YEAR  \n",
       "0                        0.0                         1.0  \n",
       "1                        0.0                         0.0  \n",
       "2                        0.0                         0.0  \n",
       "3                        NaN                         NaN  \n",
       "4                        0.0                         0.0  \n",
       "\n",
       "[5 rows x 122 columns]"
      ]
     },
     "execution_count": 29,
     "metadata": {},
     "output_type": "execute_result"
    }
   ],
   "source": [
    "# '../input/home-credit-default-risk/application_train.csv'\n",
    "if not debug:\n",
    "    num_rows = None\n",
    "else:\n",
    "    num_rows = 10000\n",
    "app_train = pd.read_csv('./data/application_train.csv', nrows= num_rows)\n",
    "print(f\"Le jeu d'entrainement comporte {app_train.shape[0]} lignes et {app_train.shape[1]} colonnes.\", )\n",
    "app_train.head()"
   ]
  },
  {
   "cell_type": "code",
   "execution_count": 30,
   "id": "quiet-vertex",
   "metadata": {},
   "outputs": [
    {
     "name": "stdout",
     "output_type": "stream",
     "text": [
      "Le jeu de test comporte 10000 lignes et 121 colonnes.\n"
     ]
    },
    {
     "data": {
      "text/html": [
       "<div>\n",
       "<style scoped>\n",
       "    .dataframe tbody tr th:only-of-type {\n",
       "        vertical-align: middle;\n",
       "    }\n",
       "\n",
       "    .dataframe tbody tr th {\n",
       "        vertical-align: top;\n",
       "    }\n",
       "\n",
       "    .dataframe thead th {\n",
       "        text-align: right;\n",
       "    }\n",
       "</style>\n",
       "<table border=\"1\" class=\"dataframe\">\n",
       "  <thead>\n",
       "    <tr style=\"text-align: right;\">\n",
       "      <th></th>\n",
       "      <th>SK_ID_CURR</th>\n",
       "      <th>NAME_CONTRACT_TYPE</th>\n",
       "      <th>CODE_GENDER</th>\n",
       "      <th>FLAG_OWN_CAR</th>\n",
       "      <th>FLAG_OWN_REALTY</th>\n",
       "      <th>CNT_CHILDREN</th>\n",
       "      <th>AMT_INCOME_TOTAL</th>\n",
       "      <th>AMT_CREDIT</th>\n",
       "      <th>AMT_ANNUITY</th>\n",
       "      <th>AMT_GOODS_PRICE</th>\n",
       "      <th>...</th>\n",
       "      <th>FLAG_DOCUMENT_18</th>\n",
       "      <th>FLAG_DOCUMENT_19</th>\n",
       "      <th>FLAG_DOCUMENT_20</th>\n",
       "      <th>FLAG_DOCUMENT_21</th>\n",
       "      <th>AMT_REQ_CREDIT_BUREAU_HOUR</th>\n",
       "      <th>AMT_REQ_CREDIT_BUREAU_DAY</th>\n",
       "      <th>AMT_REQ_CREDIT_BUREAU_WEEK</th>\n",
       "      <th>AMT_REQ_CREDIT_BUREAU_MON</th>\n",
       "      <th>AMT_REQ_CREDIT_BUREAU_QRT</th>\n",
       "      <th>AMT_REQ_CREDIT_BUREAU_YEAR</th>\n",
       "    </tr>\n",
       "  </thead>\n",
       "  <tbody>\n",
       "    <tr>\n",
       "      <th>0</th>\n",
       "      <td>100001</td>\n",
       "      <td>Cash loans</td>\n",
       "      <td>F</td>\n",
       "      <td>N</td>\n",
       "      <td>Y</td>\n",
       "      <td>0</td>\n",
       "      <td>135000.0</td>\n",
       "      <td>568800.0</td>\n",
       "      <td>20560.5</td>\n",
       "      <td>450000.0</td>\n",
       "      <td>...</td>\n",
       "      <td>0</td>\n",
       "      <td>0</td>\n",
       "      <td>0</td>\n",
       "      <td>0</td>\n",
       "      <td>0.0</td>\n",
       "      <td>0.0</td>\n",
       "      <td>0.0</td>\n",
       "      <td>0.0</td>\n",
       "      <td>0.0</td>\n",
       "      <td>0.0</td>\n",
       "    </tr>\n",
       "    <tr>\n",
       "      <th>1</th>\n",
       "      <td>100005</td>\n",
       "      <td>Cash loans</td>\n",
       "      <td>M</td>\n",
       "      <td>N</td>\n",
       "      <td>Y</td>\n",
       "      <td>0</td>\n",
       "      <td>99000.0</td>\n",
       "      <td>222768.0</td>\n",
       "      <td>17370.0</td>\n",
       "      <td>180000.0</td>\n",
       "      <td>...</td>\n",
       "      <td>0</td>\n",
       "      <td>0</td>\n",
       "      <td>0</td>\n",
       "      <td>0</td>\n",
       "      <td>0.0</td>\n",
       "      <td>0.0</td>\n",
       "      <td>0.0</td>\n",
       "      <td>0.0</td>\n",
       "      <td>0.0</td>\n",
       "      <td>3.0</td>\n",
       "    </tr>\n",
       "    <tr>\n",
       "      <th>2</th>\n",
       "      <td>100013</td>\n",
       "      <td>Cash loans</td>\n",
       "      <td>M</td>\n",
       "      <td>Y</td>\n",
       "      <td>Y</td>\n",
       "      <td>0</td>\n",
       "      <td>202500.0</td>\n",
       "      <td>663264.0</td>\n",
       "      <td>69777.0</td>\n",
       "      <td>630000.0</td>\n",
       "      <td>...</td>\n",
       "      <td>0</td>\n",
       "      <td>0</td>\n",
       "      <td>0</td>\n",
       "      <td>0</td>\n",
       "      <td>0.0</td>\n",
       "      <td>0.0</td>\n",
       "      <td>0.0</td>\n",
       "      <td>0.0</td>\n",
       "      <td>1.0</td>\n",
       "      <td>4.0</td>\n",
       "    </tr>\n",
       "    <tr>\n",
       "      <th>3</th>\n",
       "      <td>100028</td>\n",
       "      <td>Cash loans</td>\n",
       "      <td>F</td>\n",
       "      <td>N</td>\n",
       "      <td>Y</td>\n",
       "      <td>2</td>\n",
       "      <td>315000.0</td>\n",
       "      <td>1575000.0</td>\n",
       "      <td>49018.5</td>\n",
       "      <td>1575000.0</td>\n",
       "      <td>...</td>\n",
       "      <td>0</td>\n",
       "      <td>0</td>\n",
       "      <td>0</td>\n",
       "      <td>0</td>\n",
       "      <td>0.0</td>\n",
       "      <td>0.0</td>\n",
       "      <td>0.0</td>\n",
       "      <td>0.0</td>\n",
       "      <td>0.0</td>\n",
       "      <td>3.0</td>\n",
       "    </tr>\n",
       "    <tr>\n",
       "      <th>4</th>\n",
       "      <td>100038</td>\n",
       "      <td>Cash loans</td>\n",
       "      <td>M</td>\n",
       "      <td>Y</td>\n",
       "      <td>N</td>\n",
       "      <td>1</td>\n",
       "      <td>180000.0</td>\n",
       "      <td>625500.0</td>\n",
       "      <td>32067.0</td>\n",
       "      <td>625500.0</td>\n",
       "      <td>...</td>\n",
       "      <td>0</td>\n",
       "      <td>0</td>\n",
       "      <td>0</td>\n",
       "      <td>0</td>\n",
       "      <td>NaN</td>\n",
       "      <td>NaN</td>\n",
       "      <td>NaN</td>\n",
       "      <td>NaN</td>\n",
       "      <td>NaN</td>\n",
       "      <td>NaN</td>\n",
       "    </tr>\n",
       "  </tbody>\n",
       "</table>\n",
       "<p>5 rows × 121 columns</p>\n",
       "</div>"
      ],
      "text/plain": [
       "   SK_ID_CURR NAME_CONTRACT_TYPE CODE_GENDER FLAG_OWN_CAR FLAG_OWN_REALTY  \\\n",
       "0      100001         Cash loans           F            N               Y   \n",
       "1      100005         Cash loans           M            N               Y   \n",
       "2      100013         Cash loans           M            Y               Y   \n",
       "3      100028         Cash loans           F            N               Y   \n",
       "4      100038         Cash loans           M            Y               N   \n",
       "\n",
       "   CNT_CHILDREN  AMT_INCOME_TOTAL  AMT_CREDIT  AMT_ANNUITY  AMT_GOODS_PRICE  \\\n",
       "0             0          135000.0    568800.0      20560.5         450000.0   \n",
       "1             0           99000.0    222768.0      17370.0         180000.0   \n",
       "2             0          202500.0    663264.0      69777.0         630000.0   \n",
       "3             2          315000.0   1575000.0      49018.5        1575000.0   \n",
       "4             1          180000.0    625500.0      32067.0         625500.0   \n",
       "\n",
       "   ... FLAG_DOCUMENT_18 FLAG_DOCUMENT_19 FLAG_DOCUMENT_20 FLAG_DOCUMENT_21  \\\n",
       "0  ...                0                0                0                0   \n",
       "1  ...                0                0                0                0   \n",
       "2  ...                0                0                0                0   \n",
       "3  ...                0                0                0                0   \n",
       "4  ...                0                0                0                0   \n",
       "\n",
       "  AMT_REQ_CREDIT_BUREAU_HOUR  AMT_REQ_CREDIT_BUREAU_DAY  \\\n",
       "0                        0.0                        0.0   \n",
       "1                        0.0                        0.0   \n",
       "2                        0.0                        0.0   \n",
       "3                        0.0                        0.0   \n",
       "4                        NaN                        NaN   \n",
       "\n",
       "   AMT_REQ_CREDIT_BUREAU_WEEK  AMT_REQ_CREDIT_BUREAU_MON  \\\n",
       "0                         0.0                        0.0   \n",
       "1                         0.0                        0.0   \n",
       "2                         0.0                        0.0   \n",
       "3                         0.0                        0.0   \n",
       "4                         NaN                        NaN   \n",
       "\n",
       "   AMT_REQ_CREDIT_BUREAU_QRT  AMT_REQ_CREDIT_BUREAU_YEAR  \n",
       "0                        0.0                         0.0  \n",
       "1                        0.0                         3.0  \n",
       "2                        1.0                         4.0  \n",
       "3                        0.0                         3.0  \n",
       "4                        NaN                         NaN  \n",
       "\n",
       "[5 rows x 121 columns]"
      ]
     },
     "execution_count": 30,
     "metadata": {},
     "output_type": "execute_result"
    }
   ],
   "source": [
    "app_test = pd.read_csv('./data/application_test.csv', nrows= num_rows)\n",
    "print(f\"Le jeu de test comporte {app_test.shape[0]} lignes et {app_test.shape[1]} colonnes.\", )\n",
    "app_test.head()"
   ]
  },
  {
   "cell_type": "markdown",
   "id": "educated-placement",
   "metadata": {},
   "source": [
    "## Transformation du jeu de données\n",
    "\n",
    "L'objectif est de réaliser une analyse exploratoire des données pour les nettoyer, et réaliser un feature engineering."
   ]
  },
  {
   "cell_type": "markdown",
   "id": "mobile-shooting",
   "metadata": {},
   "source": [
    "### Traitement des variables catégorielles\n",
    "\n",
    "L'objectif est d'encoder les variables catégorielles pour pouvoir les utiliser avec nos modèles de machine learning. Comme la plupart des variables ont un faible nombre de catégories uniques, nous allons utiliser le one-hot encoding sur les variables en possédant plus de deux, et le label encoding sur les autres."
   ]
  },
  {
   "cell_type": "code",
   "execution_count": 31,
   "id": "determined-garden",
   "metadata": {},
   "outputs": [
    {
     "data": {
      "text/plain": [
       "NAME_CONTRACT_TYPE             2\n",
       "CODE_GENDER                    2\n",
       "FLAG_OWN_CAR                   2\n",
       "FLAG_OWN_REALTY                2\n",
       "NAME_TYPE_SUITE                7\n",
       "NAME_INCOME_TYPE               5\n",
       "NAME_EDUCATION_TYPE            5\n",
       "NAME_FAMILY_STATUS             5\n",
       "NAME_HOUSING_TYPE              6\n",
       "OCCUPATION_TYPE               18\n",
       "WEEKDAY_APPR_PROCESS_START     7\n",
       "ORGANIZATION_TYPE             58\n",
       "FONDKAPREMONT_MODE             4\n",
       "HOUSETYPE_MODE                 3\n",
       "WALLSMATERIAL_MODE             7\n",
       "EMERGENCYSTATE_MODE            2\n",
       "dtype: int64"
      ]
     },
     "execution_count": 31,
     "metadata": {},
     "output_type": "execute_result"
    }
   ],
   "source": [
    "app_train.select_dtypes('object').apply(pd.Series.nunique, axis = 0)"
   ]
  },
  {
   "cell_type": "code",
   "execution_count": 32,
   "id": "unavailable-handy",
   "metadata": {},
   "outputs": [
    {
     "name": "stdout",
     "output_type": "stream",
     "text": [
      "Le label encoding a été utilisé sur 4 colonnes.\n"
     ]
    }
   ],
   "source": [
    "# Create a label encoder object\n",
    "le = LabelEncoder()\n",
    "le_count = 0\n",
    "\n",
    "# Iterate through the columns\n",
    "for col in app_train:\n",
    "    if app_train[col].dtype == 'object':\n",
    "        # If 2 or fewer unique categories\n",
    "        if len(list(app_train[col].unique())) <= 2:\n",
    "            # Train on the training data\n",
    "            le.fit(app_train[col])\n",
    "            # Transform both training and testing data\n",
    "            app_train[col] = le.transform(app_train[col])\n",
    "            app_test[col] = le.transform(app_test[col])\n",
    "            \n",
    "            # Keep track of how many columns were label encoded\n",
    "            le_count += 1\n",
    "            \n",
    "print(f'Le label encoding a été utilisé sur {le_count} colonnes.')"
   ]
  },
  {
   "cell_type": "code",
   "execution_count": 33,
   "id": "korean-double",
   "metadata": {},
   "outputs": [
    {
     "name": "stdout",
     "output_type": "stream",
     "text": [
      "Le jeu de test comporte désormais 10000 lignes et 237 colonnes.\n",
      "Le jeu d'entrainement comporte désormais 10000 lignes et 237 colonnes.\n"
     ]
    }
   ],
   "source": [
    "# one-hot encoding of categorical variables\n",
    "app_train = pd.get_dummies(app_train)\n",
    "app_test = pd.get_dummies(app_test)\n",
    "\n",
    "print(f\"Le jeu de test comporte désormais {app_test.shape[0]} lignes et {app_test.shape[1]} colonnes.\", )\n",
    "print(f\"Le jeu d'entrainement comporte désormais {app_train.shape[0]} lignes et {app_train.shape[1]} colonnes.\", )"
   ]
  },
  {
   "cell_type": "markdown",
   "id": "embedded-prototype",
   "metadata": {},
   "source": [
    "Le One-Hot encoding a créé plus de variables dans la table d'entrainement que dans celle de test. Les modèles de Machine Learning nécéssitent que les deux jeux possèdent les mêmes features. Il faut donc aligner les deux jeux de données."
   ]
  },
  {
   "cell_type": "code",
   "execution_count": 34,
   "id": "alpine-moscow",
   "metadata": {},
   "outputs": [
    {
     "name": "stdout",
     "output_type": "stream",
     "text": [
      "Le jeu de test comporte désormais 10000 lignes et 235 colonnes.\n",
      "Le jeu d'entrainement comporte désormais 10000 lignes et 236 colonnes.\n"
     ]
    }
   ],
   "source": [
    "train_labels = app_train['TARGET']\n",
    "\n",
    "# Align the training and testing data, keep only columns present in both dataframes\n",
    "app_train, app_test = app_train.align(app_test, join = 'inner', axis = 1)\n",
    "\n",
    "# Add the target back in\n",
    "app_train['TARGET'] = train_labels\n",
    "\n",
    "print(f\"Le jeu de test comporte désormais {app_test.shape[0]} lignes et {app_test.shape[1]} colonnes.\", )\n",
    "print(f\"Le jeu d'entrainement comporte désormais {app_train.shape[0]} lignes et {app_train.shape[1]} colonnes.\", )"
   ]
  },
  {
   "cell_type": "markdown",
   "id": "seven-apple",
   "metadata": {},
   "source": [
    "### Choix des variables"
   ]
  },
  {
   "cell_type": "markdown",
   "id": "becoming-machine",
   "metadata": {},
   "source": [
    "On utilise les n_features les plus corrélées à la target."
   ]
  },
  {
   "cell_type": "code",
   "execution_count": 35,
   "id": "earlier-shock",
   "metadata": {},
   "outputs": [],
   "source": [
    "features_names, correlation_with_target = zip(*sorted(list(dict(app_train[app_train.columns[1:]].corr()['TARGET'][:]).items()), key=lambda item: -abs(item[1])))\n",
    "features_names = list(features_names[1:n_features+1])\n",
    "correlation_with_target = list(correlation_with_target[1:n_features+1])"
   ]
  },
  {
   "cell_type": "code",
   "execution_count": 36,
   "id": "imperial-agency",
   "metadata": {},
   "outputs": [
    {
     "data": {
      "image/png": "[encoded data removed]",
      "text/plain": [
       "<Figure size 432x288 with 1 Axes>"
      ]
     },
     "metadata": {
      "needs_background": "light"
     },
     "output_type": "display_data"
    }
   ],
   "source": [
    "ax = sns.barplot(x=features_names, y=correlation_with_target)\n",
    "for item in ax.get_xticklabels():\n",
    "        item.set_rotation(90)"
   ]
  },
  {
   "cell_type": "code",
   "execution_count": 37,
   "id": "smaller-jefferson",
   "metadata": {},
   "outputs": [
    {
     "data": {
      "image/png": "[encoded data removed]",
      "text/plain": [
       "<Figure size 792x648 with 2 Axes>"
      ]
     },
     "metadata": {
      "needs_background": "light"
     },
     "output_type": "display_data"
    }
   ],
   "source": [
    "# affichage de la matrice de corrélation\n",
    "short_df = pd.DataFrame(data=app_train, columns=features_names)\n",
    "corr = short_df.corr()\n",
    "mask = np.triu(np.ones_like(corr, dtype=bool))\n",
    "f, ax = plt.subplots(figsize=(11, 9))\n",
    "cmap = sns.diverging_palette(230, 20, as_cmap=True)\n",
    "sns.heatmap(corr, mask=mask, cmap=cmap, vmax=.8, center=0,\n",
    "square=True, linewidths=.5, cbar_kws={\"shrink\": .5})\n",
    "plt.show()"
   ]
  },
  {
   "cell_type": "markdown",
   "id": "lonely-ceremony",
   "metadata": {},
   "source": [
    "### Valeurs manquantes"
   ]
  },
  {
   "cell_type": "code",
   "execution_count": 38,
   "id": "center-avenue",
   "metadata": {},
   "outputs": [
    {
     "name": "stdout",
     "output_type": "stream",
     "text": [
      "Your selected dataframe has 5 columns.\n",
      "There are 2 columns that have missing values.\n"
     ]
    },
    {
     "data": {
      "text/html": [
       "<div>\n",
       "<style scoped>\n",
       "    .dataframe tbody tr th:only-of-type {\n",
       "        vertical-align: middle;\n",
       "    }\n",
       "\n",
       "    .dataframe tbody tr th {\n",
       "        vertical-align: top;\n",
       "    }\n",
       "\n",
       "    .dataframe thead th {\n",
       "        text-align: right;\n",
       "    }\n",
       "</style>\n",
       "<table border=\"1\" class=\"dataframe\">\n",
       "  <thead>\n",
       "    <tr style=\"text-align: right;\">\n",
       "      <th></th>\n",
       "      <th>Missing Values</th>\n",
       "      <th>% of Total Values</th>\n",
       "    </tr>\n",
       "  </thead>\n",
       "  <tbody>\n",
       "    <tr>\n",
       "      <th>EXT_SOURCE_1</th>\n",
       "      <td>5647</td>\n",
       "      <td>56.5</td>\n",
       "    </tr>\n",
       "    <tr>\n",
       "      <th>EXT_SOURCE_2</th>\n",
       "      <td>26</td>\n",
       "      <td>0.3</td>\n",
       "    </tr>\n",
       "  </tbody>\n",
       "</table>\n",
       "</div>"
      ],
      "text/plain": [
       "              Missing Values  % of Total Values\n",
       "EXT_SOURCE_1            5647               56.5\n",
       "EXT_SOURCE_2              26                0.3"
      ]
     },
     "execution_count": 38,
     "metadata": {},
     "output_type": "execute_result"
    }
   ],
   "source": [
    "# Function to calculate missing values by column# Funct \n",
    "def missing_values_table(df):\n",
    "        # Total missing values\n",
    "        mis_val = df.isnull().sum()\n",
    "        \n",
    "        # Percentage of missing values\n",
    "        mis_val_percent = 100 * df.isnull().sum() / len(df)\n",
    "        \n",
    "        # Make a table with the results\n",
    "        mis_val_table = pd.concat([mis_val, mis_val_percent], axis=1)\n",
    "        \n",
    "        # Rename the columns\n",
    "        mis_val_table_ren_columns = mis_val_table.rename(\n",
    "        columns = {0 : 'Missing Values', 1 : '% of Total Values'})\n",
    "        \n",
    "        # Sort the table by percentage of missing descending\n",
    "        mis_val_table_ren_columns = mis_val_table_ren_columns[\n",
    "            mis_val_table_ren_columns.iloc[:,1] != 0].sort_values(\n",
    "        '% of Total Values', ascending=False).round(1)\n",
    "        \n",
    "        # Print some summary information\n",
    "        print (\"Your selected dataframe has \" + str(df.shape[1]) + \" columns.\\n\"      \n",
    "            \"There are \" + str(mis_val_table_ren_columns.shape[0]) +\n",
    "              \" columns that have missing values.\")\n",
    "        \n",
    "        # Return the dataframe with missing information\n",
    "        return mis_val_table_ren_columns\n",
    "    \n",
    "missing_values_t = missing_values_table(short_df)\n",
    "missing_values_t.head(20)"
   ]
  },
  {
   "cell_type": "markdown",
   "id": "genuine-reverse",
   "metadata": {},
   "source": [
    "### Traitement des valeurs aberrantes"
   ]
  },
  {
   "cell_type": "code",
   "execution_count": 39,
   "id": "fixed-static",
   "metadata": {},
   "outputs": [
    {
     "name": "stdout",
     "output_type": "stream",
     "text": [
      "count    9974.000000\n",
      "mean        0.515509\n",
      "std         0.189522\n",
      "min         0.000074\n",
      "25%         0.393858\n",
      "50%         0.565894\n",
      "75%         0.664474\n",
      "max         0.855000\n",
      "Name: EXT_SOURCE_2, dtype: float64 \n",
      "\n",
      "count    4353.000000\n",
      "mean        0.504268\n",
      "std         0.209818\n",
      "min         0.024417\n",
      "25%         0.332779\n",
      "50%         0.511269\n",
      "75%         0.673915\n",
      "max         0.929394\n",
      "Name: EXT_SOURCE_1, dtype: float64 \n",
      "\n",
      "count    10000.000000\n",
      "mean        43.904858\n",
      "std         11.891860\n",
      "min         21.109589\n",
      "25%         33.941781\n",
      "50%         43.242466\n",
      "75%         53.685616\n",
      "max         68.931507\n",
      "Name: DAYS_BIRTH, dtype: float64 \n",
      "\n",
      "count    10000.000000\n",
      "mean         2.026600\n",
      "std          0.504894\n",
      "min          1.000000\n",
      "25%          2.000000\n",
      "50%          2.000000\n",
      "75%          2.000000\n",
      "max          3.000000\n",
      "Name: REGION_RATING_CLIENT_W_CITY, dtype: float64 \n",
      "\n",
      "count    10000.000000\n",
      "mean         8.173646\n",
      "std          4.143865\n",
      "min         -0.000000\n",
      "25%          4.676712\n",
      "50%          8.841096\n",
      "75%         11.772603\n",
      "max         17.063014\n",
      "Name: DAYS_ID_PUBLISH, dtype: float64 \n",
      "\n"
     ]
    }
   ],
   "source": [
    "for feat in features_names:\n",
    "    if 'DAYS' in feat: # changing days to years\n",
    "        print((app_train[feat] / -365).describe(), '\\n')\n",
    "    else:\n",
    "        print(app_train[feat].describe(), '\\n')"
   ]
  },
  {
   "cell_type": "code",
   "execution_count": 40,
   "id": "presidential-handy",
   "metadata": {},
   "outputs": [
    {
     "data": {
      "text/plain": [
       "Text(0.5, 0, 'Days Employment')"
      ]
     },
     "execution_count": 40,
     "metadata": {},
     "output_type": "execute_result"
    },
    {
     "data": {
      "image/png": "[encoded data removed]",
      "text/plain": [
       "<Figure size 432x288 with 1 Axes>"
      ]
     },
     "metadata": {
      "needs_background": "light"
     },
     "output_type": "display_data"
    }
   ],
   "source": [
    "app_train['DAYS_EMPLOYED'].plot.hist(title = 'Days Employment Histogram')\n",
    "plt.xlabel('Days Employment')"
   ]
  },
  {
   "cell_type": "code",
   "execution_count": 41,
   "id": "twenty-elevation",
   "metadata": {},
   "outputs": [
    {
     "data": {
      "text/plain": [
       "Text(0.5, 0, 'Days Employment')"
      ]
     },
     "execution_count": 41,
     "metadata": {},
     "output_type": "execute_result"
    },
    {
     "data": {
      "image/png": "[encoded data removed]",
      "text/plain": [
       "<Figure size 432x288 with 1 Axes>"
      ]
     },
     "metadata": {
      "needs_background": "light"
     },
     "output_type": "display_data"
    }
   ],
   "source": [
    "app_train['DAYS_EMPLOYED'].replace(365243, np.nan, inplace= True)\n",
    "app_train['DAYS_EMPLOYED'].plot.hist(title = 'Days Employment Histogram after correction')\n",
    "plt.xlabel('Days Employment')"
   ]
  },
  {
   "cell_type": "markdown",
   "id": "forced-specification",
   "metadata": {},
   "source": [
    "### Nouvelles variables"
   ]
  },
  {
   "cell_type": "markdown",
   "id": "adjusted-tiger",
   "metadata": {},
   "source": [
    "Enfants à charge"
   ]
  },
  {
   "cell_type": "code",
   "execution_count": 42,
   "id": "several-reputation",
   "metadata": {},
   "outputs": [
    {
     "name": "stdout",
     "output_type": "stream",
     "text": [
      "count    10000.000000\n",
      "mean         0.416300\n",
      "std          0.722251\n",
      "min          0.000000\n",
      "25%          0.000000\n",
      "50%          0.000000\n",
      "75%          1.000000\n",
      "max          7.000000\n",
      "Name: CNT_CHILDREN, dtype: float64 \n",
      "\n",
      "count    10000.000000\n",
      "mean         2.156400\n",
      "std          0.906102\n",
      "min          1.000000\n",
      "25%          2.000000\n",
      "50%          2.000000\n",
      "75%          3.000000\n",
      "max          9.000000\n",
      "Name: CNT_FAM_MEMBERS, dtype: float64 \n",
      "\n"
     ]
    }
   ],
   "source": [
    "print(app_train['CNT_CHILDREN'].describe(), '\\n')\n",
    "print(app_train['CNT_FAM_MEMBERS'].describe(), '\\n')"
   ]
  },
  {
   "cell_type": "code",
   "execution_count": 43,
   "id": "angry-heating",
   "metadata": {},
   "outputs": [],
   "source": [
    "extended_app_train = app_train.copy()\n",
    "extended_app_test = app_test.copy()\n",
    "custom_features = ['EFFECTIVE_INCOME', 'CREDIT_INCOME_PERCENT', 'ANNUITY_INCOME_PERCENT', 'CREDIT_TERM', 'DAYS_EMPLOYED_PERCENT']\n",
    "extended_app_train['EFFECTIVE_INCOME'] = extended_app_train['AMT_INCOME_TOTAL'] - extended_app_train['AMT_INCOME_TOTAL'] * extended_app_train['CNT_CHILDREN'] / extended_app_train['CNT_FAM_MEMBERS']\n",
    "extended_app_test['EFFECTIVE_INCOME'] = extended_app_test['AMT_INCOME_TOTAL'] - extended_app_test['AMT_INCOME_TOTAL'] * extended_app_test['CNT_CHILDREN'] / extended_app_test['CNT_FAM_MEMBERS']\n",
    "extended_app_train['CREDIT_INCOME_PERCENT'] = extended_app_train['AMT_CREDIT'] / extended_app_train['AMT_INCOME_TOTAL']\n",
    "extended_app_test['CREDIT_INCOME_PERCENT'] = extended_app_test['AMT_CREDIT'] / extended_app_test['AMT_INCOME_TOTAL']\n",
    "extended_app_train['ANNUITY_INCOME_PERCENT'] = extended_app_train['AMT_ANNUITY'] / extended_app_train['AMT_INCOME_TOTAL']\n",
    "extended_app_test['ANNUITY_INCOME_PERCENT'] = extended_app_test['AMT_ANNUITY'] / extended_app_test['AMT_INCOME_TOTAL']\n",
    "extended_app_train['CREDIT_TERM'] = extended_app_train['AMT_ANNUITY'] / extended_app_train['AMT_CREDIT']\n",
    "extended_app_test['CREDIT_TERM'] = extended_app_test['AMT_ANNUITY'] / extended_app_test['AMT_CREDIT']\n",
    "extended_app_train['DAYS_EMPLOYED_PERCENT'] = extended_app_train['DAYS_EMPLOYED'] / extended_app_train['DAYS_BIRTH']\n",
    "extended_app_test['DAYS_EMPLOYED_PERCENT'] = extended_app_test['DAYS_EMPLOYED'] / extended_app_test['DAYS_BIRTH']"
   ]
  },
  {
   "cell_type": "markdown",
   "id": "sitting-pricing",
   "metadata": {},
   "source": [
    "## Comparaison des modèles et synthèse"
   ]
  },
  {
   "cell_type": "markdown",
   "id": "binding-parade",
   "metadata": {},
   "source": [
    "### Métriques"
   ]
  },
  {
   "cell_type": "code",
   "execution_count": 44,
   "id": "operating-jurisdiction",
   "metadata": {},
   "outputs": [],
   "source": [
    "previous_results = {}\n",
    "\n",
    "def roc_auc(model, predictor, xtest, ytest, lprob=None):\n",
    "    ns_probs = [0 for _ in range(len(ytest))]\n",
    "    if lprob is None:\n",
    "        lr_probs = predictor.predict_proba(xtest)[:, 1]\n",
    "    else:\n",
    "        lr_probs = lprob\n",
    "    # calculate scores\n",
    "    ns_auc = roc_auc_score(ytest, ns_probs)\n",
    "    lr_auc = roc_auc_score(ytest, lr_probs)\n",
    "    # summarize scores\n",
    "    if model in previous_results:\n",
    "        print(f'{model}: ROC AUC={round(lr_auc, 3)} (précédemment {round(previous_results[model], 3)})')\n",
    "    else:\n",
    "        print(f'{model}: ROC AUC=%.3f' % (lr_auc))\n",
    "    previous_results[model] = lr_auc\n",
    "    # calculate roc curves\n",
    "    ns_fpr, ns_tpr, _ = roc_curve(ytest, ns_probs)\n",
    "    lr_fpr, lr_tpr, _ = roc_curve(ytest, lr_probs)\n",
    "    # plot the roc curve for the model\n",
    "    plt.plot(ns_fpr, ns_tpr, linestyle='--', label='Hasard')\n",
    "    plt.plot(lr_fpr, lr_tpr, marker='.', label=model)\n",
    "    # axis labels\n",
    "    plt.xlabel('Taux de faux positifs')\n",
    "    plt.ylabel('Taux de vrais positifs')\n",
    "    # show the legend\n",
    "    plt.legend()\n",
    "    # show the plot\n",
    "    plt.show()\n",
    "    \n",
    "def fscore(predictor, xtest, ytest):\n",
    "    print(cross_val_score(predictor, xtest, ytest, scoring='f1'))"
   ]
  },
  {
   "cell_type": "markdown",
   "id": "infectious-federal",
   "metadata": {},
   "source": [
    "### Séparation du jeu de données et balance de la variable cible"
   ]
  },
  {
   "cell_type": "code",
   "execution_count": 45,
   "id": "rolled-nigeria",
   "metadata": {},
   "outputs": [],
   "source": [
    "def split_data(df):\n",
    "    \n",
    "    # train test split\n",
    "    y = df['TARGET']\n",
    "    X = df[features_names].copy()\n",
    "    X_train, X_test, y_train, y_test = train_test_split(X, y, random_state=42, test_size=0.2)\n",
    "    \n",
    "    # imputation\n",
    "    imputer = SimpleImputer(strategy = 'median')\n",
    "    scaler = MinMaxScaler(feature_range = (0, 1))\n",
    "\n",
    "    imputer.fit(X_train)\n",
    "    X_train = imputer.transform(X_train)\n",
    "    X_test = imputer.transform(X_test)\n",
    "    \n",
    "    # noramlization\n",
    "    scaler.fit(X_train)\n",
    "    X_train = scaler.transform(X_train)\n",
    "    X_test = scaler.transform(X_test)\n",
    "    \n",
    "    # balance\n",
    "    y_train.plot.hist(title = 'TARGET distribution')\n",
    "    plt.show()\n",
    "    oversample = SMOTE()\n",
    "    X_train, y_train = oversample.fit_resample(X_train, y_train)\n",
    "    y_train.plot.hist(title = 'TARGET distribution after balance')\n",
    "    plt.show()\n",
    "    \n",
    "    return y, X, X_train, X_test, y_train, y_test"
   ]
  },
  {
   "cell_type": "markdown",
   "id": "wicked-knitting",
   "metadata": {},
   "source": [
    "### Tuning des hyperparamètres"
   ]
  },
  {
   "cell_type": "code",
   "execution_count": 46,
   "id": "flying-windows",
   "metadata": {},
   "outputs": [
    {
     "data": {
      "image/png": "[encoded data removed]",
      "text/plain": [
       "<Figure size 432x288 with 1 Axes>"
      ]
     },
     "metadata": {
      "needs_background": "light"
     },
     "output_type": "display_data"
    },
    {
     "data": {
      "image/png": "[encoded data removed]",
      "text/plain": [
       "<Figure size 432x288 with 1 Axes>"
      ]
     },
     "metadata": {
      "needs_background": "light"
     },
     "output_type": "display_data"
    }
   ],
   "source": [
    "y, X, X_train, X_test, y_train, y_test = split_data(app_train)"
   ]
  },
  {
   "cell_type": "code",
   "execution_count": 47,
   "id": "colonial-witness",
   "metadata": {},
   "outputs": [
    {
     "name": "stdout",
     "output_type": "stream",
     "text": [
      "{'C': 10.0, 'penalty': 'l2'}\n",
      "accuracy : 0.696354633986213\n"
     ]
    }
   ],
   "source": [
    "# regression logistique\n",
    "if not debug:\n",
    "    grid={\"C\":np.logspace(-3,3,7), \"penalty\":[\"l1\",\"l2\"]} # l1 lasso l2 ridge\n",
    "    reglog=LogisticRegression()\n",
    "    reglog_grid=GridSearchCV(reglog, grid, cv=10, scoring=\"roc_auc\")\n",
    "    reglog_grid.fit(X_train, y_train)\n",
    "    print(reglog_grid.best_params_)\n",
    "    print(\"accuracy :\", reglog_grid.best_score_)\n",
    "    reglog_params = reglog_grid.best_params_\n",
    "else:\n",
    "    reglog_params = {'C': 1.0, 'penalty': 'l2'}"
   ]
  },
  {
   "cell_type": "code",
   "execution_count": 48,
   "id": "handled-portsmouth",
   "metadata": {},
   "outputs": [
    {
     "name": "stdout",
     "output_type": "stream",
     "text": [
      "{'max_features': 'sqrt', 'n_estimators': 750}\n",
      "accuracy : 0.9245041545738097\n"
     ]
    }
   ],
   "source": [
    "# random forest\n",
    "if not debug:\n",
    "    rfc=RandomForestClassifier(random_state=42)\n",
    "    param_grid = { \n",
    "        'n_estimators': [250, 750],\n",
    "        'max_features': ['sqrt', 'log2']\n",
    "    }\n",
    "    forest_grid = GridSearchCV(estimator=rfc, param_grid=param_grid, cv=2, scoring=\"roc_auc\", n_jobs=-1)\n",
    "    forest_grid.fit(X_train, y_train)\n",
    "    print(forest_grid.best_params_)\n",
    "    print(\"accuracy :\", forest_grid.best_score_)\n",
    "    forest_params = forest_grid.best_params_\n",
    "else:\n",
    "    forest_params = {'max_features': 'log2', 'n_estimators': 700}"
   ]
  },
  {
   "cell_type": "code",
   "execution_count": 49,
   "id": "revolutionary-blocking",
   "metadata": {},
   "outputs": [
    {
     "name": "stdout",
     "output_type": "stream",
     "text": [
      "{'C': 1000, 'gamma': 1, 'kernel': 'rbf'}\n",
      "accuracy : 0.7439875650927972\n"
     ]
    }
   ],
   "source": [
    "# SVM à noyau\n",
    "if not debug:\n",
    "    param_grid = {'C': [1, 1000], \n",
    "                  'gamma': [1, 0.01, 0.0001],\n",
    "                  'kernel': ['rbf']} \n",
    "    svm_grid = GridSearchCV(svm.SVC(), param_grid, refit=True, verbose=0, scoring=\"roc_auc\", cv=2, n_jobs=-1)\n",
    "    svm_grid.fit(X_train, y_train)\n",
    "    print(svm_grid.best_params_)\n",
    "    print(\"accuracy :\", svm_grid.best_score_)\n",
    "    svm_params = svm_grid.best_params_\n",
    "else:\n",
    "    svm_params = {'C': 1000, 'gamma': 0.0001, 'kernel': 'rbf'}"
   ]
  },
  {
   "cell_type": "markdown",
   "id": "incorporate-stomach",
   "metadata": {},
   "source": [
    "### Regression Logistique"
   ]
  },
  {
   "cell_type": "code",
   "execution_count": 50,
   "id": "thermal-banner",
   "metadata": {},
   "outputs": [],
   "source": [
    "def make_reg_log():\n",
    "    reg_log = LogisticRegression(C=reglog_params['C'], penalty=reglog_params['penalty'], n_jobs=-1)\n",
    "    reg_log.fit(X_train, y_train)\n",
    "    roc_auc(\"Regression Logistique\", reg_log, X_test, y_test)\n",
    "    fscore(reg_log, X_test, y_test)"
   ]
  },
  {
   "cell_type": "markdown",
   "id": "conventional-virtue",
   "metadata": {},
   "source": [
    "### Random Forest"
   ]
  },
  {
   "cell_type": "code",
   "execution_count": 51,
   "id": "under-potato",
   "metadata": {},
   "outputs": [],
   "source": [
    "def make_random_forest():\n",
    "    random_forest = RandomForestClassifier(n_estimators=forest_params['n_estimators'], random_state=50, max_features=forest_params['max_features'], verbose=False, n_jobs=-1)\n",
    "    res = random_forest.fit(X_train, y_train)\n",
    "    roc_auc(\"Random Forest\", random_forest, X_test, y_test)\n",
    "    fscore(random_forest, X_test, y_test)"
   ]
  },
  {
   "cell_type": "markdown",
   "id": "objective-method",
   "metadata": {},
   "source": [
    "### SVM à Noyau"
   ]
  },
  {
   "cell_type": "code",
   "execution_count": 52,
   "id": "simple-brazilian",
   "metadata": {},
   "outputs": [],
   "source": [
    "def make_kernel_SVM():\n",
    "    svm_classifier = svm.SVC(kernel='rbf', gamma=svm_params['gamma'], C=svm_params['C'], probability=True)\n",
    "    svm_classifier.fit(X_train, y_train)\n",
    "    roc_auc(\"SVM à Noyau\", svm_classifier, X_test, y_test)\n",
    "    fscore(svm_classifier, X_test, y_test)"
   ]
  },
  {
   "cell_type": "markdown",
   "id": "conscious-mortality",
   "metadata": {},
   "source": [
    "### Gradient Boosting"
   ]
  },
  {
   "cell_type": "code",
   "execution_count": 53,
   "id": "judicial-nylon",
   "metadata": {},
   "outputs": [],
   "source": [
    "def lgbm():\n",
    "    # LightGBM parameters found by Bayesian optimization\n",
    "    clf = LGBMClassifier(\n",
    "        n_estimators=10000,\n",
    "        learning_rate=0.02,\n",
    "        num_leaves=34,\n",
    "        colsample_bytree=0.9497036,\n",
    "        subsample=0.8715623,\n",
    "        max_depth=8,\n",
    "        reg_alpha=0.041545473,\n",
    "        reg_lambda=0.0735294,\n",
    "        min_split_gain=0.0222415,\n",
    "        min_child_weight=39.3259775,\n",
    "        silent=1,\n",
    "        verbose=-1,\n",
    "        n_jobs=-1)\n",
    "\n",
    "    clf.fit(X_train, y_train, eval_set=(X_test, y_test), eval_metric='auc', verbose=0, early_stopping_rounds= 200)\n",
    "\n",
    "    roc_auc(\"LGBM\", clf, X_test, y_test)\n",
    "    \n",
    "    return clf.feature_importances_\n",
    "\n",
    "def display_importances(feature_importance):\n",
    "    ordered_features, ordered_importance = [list(i) for i in zip(*sorted(zip(features_names, feature_importance), key=lambda x: -x[1]))]\n",
    "    plt.figure(figsize=(8, 10))\n",
    "    print(ordered_importance)\n",
    "    print(ordered_features)\n",
    "    sns.barplot(x=ordered_importance, y=ordered_features)\n",
    "    plt.title('Importance des variables')\n",
    "    plt.tight_layout()\n",
    "    plt.show()\n"
   ]
  },
  {
   "cell_type": "code",
   "execution_count": 54,
   "id": "ordinary-ozone",
   "metadata": {},
   "outputs": [
    {
     "name": "stdout",
     "output_type": "stream",
     "text": [
      "Regression Logistique: ROC AUC=0.735\n"
     ]
    },
    {
     "data": {
      "image/png": "[encoded data removed]",
      "text/plain": [
       "<Figure size 432x288 with 1 Axes>"
      ]
     },
     "metadata": {
      "needs_background": "light"
     },
     "output_type": "display_data"
    },
    {
     "name": "stdout",
     "output_type": "stream",
     "text": [
      "[0.         0.05405405 0.05128205 0.         0.05263158]\n",
      "Random Forest: ROC AUC=0.638\n"
     ]
    },
    {
     "data": {
      "image/png": "[encoded data removed]",
      "text/plain": [
       "<Figure size 432x288 with 1 Axes>"
      ]
     },
     "metadata": {
      "needs_background": "light"
     },
     "output_type": "display_data"
    },
    {
     "name": "stdout",
     "output_type": "stream",
     "text": [
      "[0.04761905 0.05405405 0.05128205 0.05128205 0.1       ]\n",
      "SVM à Noyau: ROC AUC=0.672\n"
     ]
    },
    {
     "data": {
      "image/png": "[encoded data removed]",
      "text/plain": [
       "<Figure size 432x288 with 1 Axes>"
      ]
     },
     "metadata": {
      "needs_background": "light"
     },
     "output_type": "display_data"
    },
    {
     "name": "stdout",
     "output_type": "stream",
     "text": [
      "[0.         0.         0.05263158 0.04878049 0.04761905]\n",
      "LGBM: ROC AUC=0.701\n"
     ]
    },
    {
     "data": {
      "image/png": "[encoded data removed]",
      "text/plain": [
       "<Figure size 432x288 with 1 Axes>"
      ]
     },
     "metadata": {
      "needs_background": "light"
     },
     "output_type": "display_data"
    }
   ],
   "source": [
    "make_reg_log()\n",
    "make_random_forest()\n",
    "make_kernel_SVM()\n",
    "feat_importance = lgbm()"
   ]
  },
  {
   "cell_type": "code",
   "execution_count": 55,
   "id": "whole-diploma",
   "metadata": {},
   "outputs": [
    {
     "data": {
      "image/png": "[encoded data removed]",
      "text/plain": [
       "<Figure size 432x288 with 1 Axes>"
      ]
     },
     "metadata": {
      "needs_background": "light"
     },
     "output_type": "display_data"
    },
    {
     "data": {
      "image/png": "[encoded data removed]",
      "text/plain": [
       "<Figure size 432x288 with 1 Axes>"
      ]
     },
     "metadata": {
      "needs_background": "light"
     },
     "output_type": "display_data"
    },
    {
     "name": "stdout",
     "output_type": "stream",
     "text": [
      "Regression Logistique: ROC AUC=0.746 (précédemment 0.735)\n"
     ]
    },
    {
     "data": {
      "image/png": "[encoded data removed]",
      "text/plain": [
       "<Figure size 432x288 with 1 Axes>"
      ]
     },
     "metadata": {
      "needs_background": "light"
     },
     "output_type": "display_data"
    },
    {
     "name": "stdout",
     "output_type": "stream",
     "text": [
      "[0.         0.05405405 0.         0.         0.1025641 ]\n",
      "Random Forest: ROC AUC=0.696 (précédemment 0.638)\n"
     ]
    },
    {
     "data": {
      "image/png": "[encoded data removed]",
      "text/plain": [
       "<Figure size 432x288 with 1 Axes>"
      ]
     },
     "metadata": {
      "needs_background": "light"
     },
     "output_type": "display_data"
    },
    {
     "name": "stdout",
     "output_type": "stream",
     "text": [
      "[0.         0.         0.05263158 0.05263158 0.05263158]\n",
      "SVM à Noyau: ROC AUC=0.622 (précédemment 0.672)\n"
     ]
    },
    {
     "data": {
      "image/png": "[encoded data removed]",
      "text/plain": [
       "<Figure size 432x288 with 1 Axes>"
      ]
     },
     "metadata": {
      "needs_background": "light"
     },
     "output_type": "display_data"
    },
    {
     "name": "stdout",
     "output_type": "stream",
     "text": [
      "[0.14285714 0.0754717  0.15686275 0.21818182 0.29032258]\n",
      "LGBM: ROC AUC=0.715 (précédemment 0.701)\n"
     ]
    },
    {
     "data": {
      "image/png": "[encoded data removed]",
      "text/plain": [
       "<Figure size 432x288 with 1 Axes>"
      ]
     },
     "metadata": {
      "needs_background": "light"
     },
     "output_type": "display_data"
    }
   ],
   "source": [
    "features_names += custom_features\n",
    "y, X, X_train, X_test, y_train, y_test = split_data(extended_app_train)\n",
    "make_reg_log()\n",
    "make_random_forest()\n",
    "make_kernel_SVM()\n",
    "feat_importance_2 = lgbm()"
   ]
  },
  {
   "cell_type": "markdown",
   "id": "liable-kelly",
   "metadata": {},
   "source": [
    "## Interprétabilité du modèle"
   ]
  },
  {
   "cell_type": "code",
   "execution_count": 56,
   "id": "micro-tolerance",
   "metadata": {},
   "outputs": [
    {
     "name": "stdout",
     "output_type": "stream",
     "text": [
      "[1261, 932, 857, 802, 156]\n",
      "['DAYS_BIRTH', 'DAYS_ID_PUBLISH', 'EXT_SOURCE_2', 'EXT_SOURCE_1', 'REGION_RATING_CLIENT_W_CITY']\n"
     ]
    },
    {
     "data": {
      "image/png": "[encoded data removed]",
      "text/plain": [
       "<Figure size 576x720 with 1 Axes>"
      ]
     },
     "metadata": {
      "needs_background": "light"
     },
     "output_type": "display_data"
    }
   ],
   "source": [
    "display_importances(feat_importance)"
   ]
  },
  {
   "cell_type": "code",
   "execution_count": 57,
   "id": "consistent-corpus",
   "metadata": {},
   "outputs": [
    {
     "name": "stdout",
     "output_type": "stream",
     "text": [
      "[761, 589, 381, 351, 346, 312, 293, 271, 224, 45]\n",
      "['CREDIT_TERM', 'EFFECTIVE_INCOME', 'EXT_SOURCE_2', 'DAYS_BIRTH', 'DAYS_EMPLOYED_PERCENT', 'DAYS_ID_PUBLISH', 'ANNUITY_INCOME_PERCENT', 'EXT_SOURCE_1', 'CREDIT_INCOME_PERCENT', 'REGION_RATING_CLIENT_W_CITY']\n"
     ]
    },
    {
     "data": {
      "image/png": "[encoded data removed]",
      "text/plain": [
       "<Figure size 576x720 with 1 Axes>"
      ]
     },
     "metadata": {
      "needs_background": "light"
     },
     "output_type": "display_data"
    }
   ],
   "source": [
    "display_importances(feat_importance_2)"
   ]
  },
  {
   "cell_type": "markdown",
   "id": "joined-logic",
   "metadata": {},
   "source": [
    "## Conclusion"
   ]
  },
  {
   "cell_type": "code",
   "execution_count": null,
   "id": "antique-composer",
   "metadata": {},
   "outputs": [],
   "source": []
  }
 ],
 "metadata": {
  "kernelspec": {
   "display_name": "Python 3",
   "language": "python",
   "name": "python3"
  },
  "language_info": {
   "codemirror_mode": {
    "name": "ipython",
    "version": 3
   },
   "file_extension": ".py",
   "mimetype": "text/x-python",
   "name": "python",
   "nbconvert_exporter": "python",
   "pygments_lexer": "ipython3",
   "version": "3.9.1"
  }
 },
 "nbformat": 4,
 "nbformat_minor": 5
}
