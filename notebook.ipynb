{
 "cells": [
  {
   "cell_type": "markdown",
   "id": "raised-british",
   "metadata": {},
   "source": [
    "# Construisez un modèle de scoring"
   ]
  },
  {
   "cell_type": "markdown",
   "id": "cheap-drinking",
   "metadata": {},
   "source": [
    "## Problématique métier"
   ]
  },
  {
   "cell_type": "markdown",
   "id": "golden-precipitation",
   "metadata": {},
   "source": [
    "L'objectif est de construire et comparer les performances de plusieurs modèles de scoring déterminants la capacité d'un emprunteur à rembourser un prêt. Ces modèles doivent être facilement interprétables car ils s'adressent à notre client, une société financière nommée \"Prêt à dépenser\". Une mesure de l'importance des variables sera réalisée pour que le client puisse analyser a posteriori la contribution des différentes variables retenues."
   ]
  },
  {
   "cell_type": "markdown",
   "id": "established-ambassador",
   "metadata": {},
   "source": [
    "## Description du jeu de données"
   ]
  },
  {
   "cell_type": "markdown",
   "id": "twelve-employee",
   "metadata": {},
   "source": [
    "**Le jeu de données provient de Home Credit, une société financière fournissant des prêts à des personnes qui disposent de peu d'historique. Les données sont partitionnées dans les fichiers suivants:**\n",
    "\n",
    "* application_{train|test}.csv:\n",
    "\n",
    "  Il s'agit des tables principales: une ligne correspond à un prêt. Les données sont séparées en jeux d'entraînement et de test.\n",
    "\n",
    "\n",
    "* bureau.csv\n",
    "\n",
    "  Historique disponible des anciens prêts accordés aux individus de notre échantillon.\n",
    "  Chaque ligne correspond à un ancien prêts.\n",
    "\n",
    "\n",
    "* bureau_balance.csv\n",
    "\n",
    "  Il s'agit de l'historique individuel mensuel de chaque emprunt présent dans bureau.csv.\n",
    "  Chaque ligne correspond à un mois d'historique d'un emprunt.\n",
    "\n",
    "\n",
    "* POS_CASH_balance.csv\n",
    "\n",
    "  Historique du solde mensuel des emprunteurs de notre échantillon.\n",
    "  Chaque ligne correspond à un mois d'historique d'un prêt.\n",
    "  \n",
    "\n",
    "* credit_card_balance.csv\n",
    "\n",
    "  Historique du solde mensuel des cartes de crédit des clients de Home Credit présents dans notre échantillon.\n",
    "  Chaque ligne correspond à un mois d'historique d'un compte.\n",
    "\n",
    "\n",
    "* previous_application.csv\n",
    "\n",
    "  Historique des demandes d'emprunt (acceptées ou non).\n",
    "  Une ligne correspond à une demande.\n",
    "\n",
    "\n",
    "* installments_payments.csv\n",
    "\n",
    "  Historique des versements des crédit précedemment attribués.\n",
    "  Une ligne correspond à un versement.\n",
    "\n",
    "\n",
    "* HomeCredit_columns_description.csv\n",
    "\n",
    "  Description de chaque colonne de chaque fichier.\n",
    "\n",
    "<br>\n",
    "\n",
    "\n",
    "**Ce diagramme présente les relations entre les données:**\n",
    "\n",
    "![image](https://storage.googleapis.com/kaggle-media/competitions/home-credit/home_credit.png)"
   ]
  },
  {
   "cell_type": "code",
   "execution_count": 144,
   "id": "minor-honor",
   "metadata": {},
   "outputs": [],
   "source": [
    "import os\n",
    "import numpy as np\n",
    "import pandas as pd\n",
    "import gc\n",
    "from sklearn import svm\n",
    "from sklearn.preprocessing import LabelEncoder, MinMaxScaler\n",
    "from sklearn.linear_model import LogisticRegression\n",
    "from sklearn.impute import SimpleImputer\n",
    "from sklearn.metrics import roc_auc_score, roc_curve\n",
    "from sklearn.model_selection import train_test_split, KFold\n",
    "from sklearn.ensemble import RandomForestClassifier\n",
    "from lightgbm import LGBMClassifier\n",
    "import matplotlib.pyplot as plt\n",
    "import seaborn as sns\n",
    "import warnings\n",
    "warnings.filterwarnings('ignore')\n",
    "# debug\n",
    "num_rows = None\n",
    "num_rows = 10000"
   ]
  },
  {
   "cell_type": "code",
   "execution_count": 145,
   "id": "spare-arctic",
   "metadata": {},
   "outputs": [
    {
     "name": "stdout",
     "output_type": "stream",
     "text": [
      "Le jeu d'entrainement comporte 10000 lignes et 122 colonnes.\n"
     ]
    },
    {
     "data": {
      "text/html": [
       "<div>\n",
       "<style scoped>\n",
       "    .dataframe tbody tr th:only-of-type {\n",
       "        vertical-align: middle;\n",
       "    }\n",
       "\n",
       "    .dataframe tbody tr th {\n",
       "        vertical-align: top;\n",
       "    }\n",
       "\n",
       "    .dataframe thead th {\n",
       "        text-align: right;\n",
       "    }\n",
       "</style>\n",
       "<table border=\"1\" class=\"dataframe\">\n",
       "  <thead>\n",
       "    <tr style=\"text-align: right;\">\n",
       "      <th></th>\n",
       "      <th>SK_ID_CURR</th>\n",
       "      <th>TARGET</th>\n",
       "      <th>NAME_CONTRACT_TYPE</th>\n",
       "      <th>CODE_GENDER</th>\n",
       "      <th>FLAG_OWN_CAR</th>\n",
       "      <th>FLAG_OWN_REALTY</th>\n",
       "      <th>CNT_CHILDREN</th>\n",
       "      <th>AMT_INCOME_TOTAL</th>\n",
       "      <th>AMT_CREDIT</th>\n",
       "      <th>AMT_ANNUITY</th>\n",
       "      <th>...</th>\n",
       "      <th>FLAG_DOCUMENT_18</th>\n",
       "      <th>FLAG_DOCUMENT_19</th>\n",
       "      <th>FLAG_DOCUMENT_20</th>\n",
       "      <th>FLAG_DOCUMENT_21</th>\n",
       "      <th>AMT_REQ_CREDIT_BUREAU_HOUR</th>\n",
       "      <th>AMT_REQ_CREDIT_BUREAU_DAY</th>\n",
       "      <th>AMT_REQ_CREDIT_BUREAU_WEEK</th>\n",
       "      <th>AMT_REQ_CREDIT_BUREAU_MON</th>\n",
       "      <th>AMT_REQ_CREDIT_BUREAU_QRT</th>\n",
       "      <th>AMT_REQ_CREDIT_BUREAU_YEAR</th>\n",
       "    </tr>\n",
       "  </thead>\n",
       "  <tbody>\n",
       "    <tr>\n",
       "      <th>0</th>\n",
       "      <td>100002</td>\n",
       "      <td>1</td>\n",
       "      <td>Cash loans</td>\n",
       "      <td>M</td>\n",
       "      <td>N</td>\n",
       "      <td>Y</td>\n",
       "      <td>0</td>\n",
       "      <td>202500.0</td>\n",
       "      <td>406597.5</td>\n",
       "      <td>24700.5</td>\n",
       "      <td>...</td>\n",
       "      <td>0</td>\n",
       "      <td>0</td>\n",
       "      <td>0</td>\n",
       "      <td>0</td>\n",
       "      <td>0.0</td>\n",
       "      <td>0.0</td>\n",
       "      <td>0.0</td>\n",
       "      <td>0.0</td>\n",
       "      <td>0.0</td>\n",
       "      <td>1.0</td>\n",
       "    </tr>\n",
       "    <tr>\n",
       "      <th>1</th>\n",
       "      <td>100003</td>\n",
       "      <td>0</td>\n",
       "      <td>Cash loans</td>\n",
       "      <td>F</td>\n",
       "      <td>N</td>\n",
       "      <td>N</td>\n",
       "      <td>0</td>\n",
       "      <td>270000.0</td>\n",
       "      <td>1293502.5</td>\n",
       "      <td>35698.5</td>\n",
       "      <td>...</td>\n",
       "      <td>0</td>\n",
       "      <td>0</td>\n",
       "      <td>0</td>\n",
       "      <td>0</td>\n",
       "      <td>0.0</td>\n",
       "      <td>0.0</td>\n",
       "      <td>0.0</td>\n",
       "      <td>0.0</td>\n",
       "      <td>0.0</td>\n",
       "      <td>0.0</td>\n",
       "    </tr>\n",
       "    <tr>\n",
       "      <th>2</th>\n",
       "      <td>100004</td>\n",
       "      <td>0</td>\n",
       "      <td>Revolving loans</td>\n",
       "      <td>M</td>\n",
       "      <td>Y</td>\n",
       "      <td>Y</td>\n",
       "      <td>0</td>\n",
       "      <td>67500.0</td>\n",
       "      <td>135000.0</td>\n",
       "      <td>6750.0</td>\n",
       "      <td>...</td>\n",
       "      <td>0</td>\n",
       "      <td>0</td>\n",
       "      <td>0</td>\n",
       "      <td>0</td>\n",
       "      <td>0.0</td>\n",
       "      <td>0.0</td>\n",
       "      <td>0.0</td>\n",
       "      <td>0.0</td>\n",
       "      <td>0.0</td>\n",
       "      <td>0.0</td>\n",
       "    </tr>\n",
       "    <tr>\n",
       "      <th>3</th>\n",
       "      <td>100006</td>\n",
       "      <td>0</td>\n",
       "      <td>Cash loans</td>\n",
       "      <td>F</td>\n",
       "      <td>N</td>\n",
       "      <td>Y</td>\n",
       "      <td>0</td>\n",
       "      <td>135000.0</td>\n",
       "      <td>312682.5</td>\n",
       "      <td>29686.5</td>\n",
       "      <td>...</td>\n",
       "      <td>0</td>\n",
       "      <td>0</td>\n",
       "      <td>0</td>\n",
       "      <td>0</td>\n",
       "      <td>NaN</td>\n",
       "      <td>NaN</td>\n",
       "      <td>NaN</td>\n",
       "      <td>NaN</td>\n",
       "      <td>NaN</td>\n",
       "      <td>NaN</td>\n",
       "    </tr>\n",
       "    <tr>\n",
       "      <th>4</th>\n",
       "      <td>100007</td>\n",
       "      <td>0</td>\n",
       "      <td>Cash loans</td>\n",
       "      <td>M</td>\n",
       "      <td>N</td>\n",
       "      <td>Y</td>\n",
       "      <td>0</td>\n",
       "      <td>121500.0</td>\n",
       "      <td>513000.0</td>\n",
       "      <td>21865.5</td>\n",
       "      <td>...</td>\n",
       "      <td>0</td>\n",
       "      <td>0</td>\n",
       "      <td>0</td>\n",
       "      <td>0</td>\n",
       "      <td>0.0</td>\n",
       "      <td>0.0</td>\n",
       "      <td>0.0</td>\n",
       "      <td>0.0</td>\n",
       "      <td>0.0</td>\n",
       "      <td>0.0</td>\n",
       "    </tr>\n",
       "  </tbody>\n",
       "</table>\n",
       "<p>5 rows × 122 columns</p>\n",
       "</div>"
      ],
      "text/plain": [
       "   SK_ID_CURR  TARGET NAME_CONTRACT_TYPE CODE_GENDER FLAG_OWN_CAR  \\\n",
       "0      100002       1         Cash loans           M            N   \n",
       "1      100003       0         Cash loans           F            N   \n",
       "2      100004       0    Revolving loans           M            Y   \n",
       "3      100006       0         Cash loans           F            N   \n",
       "4      100007       0         Cash loans           M            N   \n",
       "\n",
       "  FLAG_OWN_REALTY  CNT_CHILDREN  AMT_INCOME_TOTAL  AMT_CREDIT  AMT_ANNUITY  \\\n",
       "0               Y             0          202500.0    406597.5      24700.5   \n",
       "1               N             0          270000.0   1293502.5      35698.5   \n",
       "2               Y             0           67500.0    135000.0       6750.0   \n",
       "3               Y             0          135000.0    312682.5      29686.5   \n",
       "4               Y             0          121500.0    513000.0      21865.5   \n",
       "\n",
       "   ...  FLAG_DOCUMENT_18 FLAG_DOCUMENT_19 FLAG_DOCUMENT_20 FLAG_DOCUMENT_21  \\\n",
       "0  ...                 0                0                0                0   \n",
       "1  ...                 0                0                0                0   \n",
       "2  ...                 0                0                0                0   \n",
       "3  ...                 0                0                0                0   \n",
       "4  ...                 0                0                0                0   \n",
       "\n",
       "  AMT_REQ_CREDIT_BUREAU_HOUR AMT_REQ_CREDIT_BUREAU_DAY  \\\n",
       "0                        0.0                       0.0   \n",
       "1                        0.0                       0.0   \n",
       "2                        0.0                       0.0   \n",
       "3                        NaN                       NaN   \n",
       "4                        0.0                       0.0   \n",
       "\n",
       "   AMT_REQ_CREDIT_BUREAU_WEEK  AMT_REQ_CREDIT_BUREAU_MON  \\\n",
       "0                         0.0                        0.0   \n",
       "1                         0.0                        0.0   \n",
       "2                         0.0                        0.0   \n",
       "3                         NaN                        NaN   \n",
       "4                         0.0                        0.0   \n",
       "\n",
       "   AMT_REQ_CREDIT_BUREAU_QRT  AMT_REQ_CREDIT_BUREAU_YEAR  \n",
       "0                        0.0                         1.0  \n",
       "1                        0.0                         0.0  \n",
       "2                        0.0                         0.0  \n",
       "3                        NaN                         NaN  \n",
       "4                        0.0                         0.0  \n",
       "\n",
       "[5 rows x 122 columns]"
      ]
     },
     "execution_count": 145,
     "metadata": {},
     "output_type": "execute_result"
    }
   ],
   "source": [
    "app_train = pd.read_csv('./data/application_train.csv', nrows= num_rows)\n",
    "print(f\"Le jeu d'entrainement comporte {app_train.shape[0]} lignes et {app_train.shape[1]} colonnes.\", )\n",
    "app_train.head()"
   ]
  },
  {
   "cell_type": "code",
   "execution_count": 146,
   "id": "quiet-vertex",
   "metadata": {},
   "outputs": [
    {
     "name": "stdout",
     "output_type": "stream",
     "text": [
      "Le jeu de test comporte 10000 lignes et 121 colonnes.\n"
     ]
    },
    {
     "data": {
      "text/html": [
       "<div>\n",
       "<style scoped>\n",
       "    .dataframe tbody tr th:only-of-type {\n",
       "        vertical-align: middle;\n",
       "    }\n",
       "\n",
       "    .dataframe tbody tr th {\n",
       "        vertical-align: top;\n",
       "    }\n",
       "\n",
       "    .dataframe thead th {\n",
       "        text-align: right;\n",
       "    }\n",
       "</style>\n",
       "<table border=\"1\" class=\"dataframe\">\n",
       "  <thead>\n",
       "    <tr style=\"text-align: right;\">\n",
       "      <th></th>\n",
       "      <th>SK_ID_CURR</th>\n",
       "      <th>NAME_CONTRACT_TYPE</th>\n",
       "      <th>CODE_GENDER</th>\n",
       "      <th>FLAG_OWN_CAR</th>\n",
       "      <th>FLAG_OWN_REALTY</th>\n",
       "      <th>CNT_CHILDREN</th>\n",
       "      <th>AMT_INCOME_TOTAL</th>\n",
       "      <th>AMT_CREDIT</th>\n",
       "      <th>AMT_ANNUITY</th>\n",
       "      <th>AMT_GOODS_PRICE</th>\n",
       "      <th>...</th>\n",
       "      <th>FLAG_DOCUMENT_18</th>\n",
       "      <th>FLAG_DOCUMENT_19</th>\n",
       "      <th>FLAG_DOCUMENT_20</th>\n",
       "      <th>FLAG_DOCUMENT_21</th>\n",
       "      <th>AMT_REQ_CREDIT_BUREAU_HOUR</th>\n",
       "      <th>AMT_REQ_CREDIT_BUREAU_DAY</th>\n",
       "      <th>AMT_REQ_CREDIT_BUREAU_WEEK</th>\n",
       "      <th>AMT_REQ_CREDIT_BUREAU_MON</th>\n",
       "      <th>AMT_REQ_CREDIT_BUREAU_QRT</th>\n",
       "      <th>AMT_REQ_CREDIT_BUREAU_YEAR</th>\n",
       "    </tr>\n",
       "  </thead>\n",
       "  <tbody>\n",
       "    <tr>\n",
       "      <th>0</th>\n",
       "      <td>100001</td>\n",
       "      <td>Cash loans</td>\n",
       "      <td>F</td>\n",
       "      <td>N</td>\n",
       "      <td>Y</td>\n",
       "      <td>0</td>\n",
       "      <td>135000.0</td>\n",
       "      <td>568800.0</td>\n",
       "      <td>20560.5</td>\n",
       "      <td>450000.0</td>\n",
       "      <td>...</td>\n",
       "      <td>0</td>\n",
       "      <td>0</td>\n",
       "      <td>0</td>\n",
       "      <td>0</td>\n",
       "      <td>0.0</td>\n",
       "      <td>0.0</td>\n",
       "      <td>0.0</td>\n",
       "      <td>0.0</td>\n",
       "      <td>0.0</td>\n",
       "      <td>0.0</td>\n",
       "    </tr>\n",
       "    <tr>\n",
       "      <th>1</th>\n",
       "      <td>100005</td>\n",
       "      <td>Cash loans</td>\n",
       "      <td>M</td>\n",
       "      <td>N</td>\n",
       "      <td>Y</td>\n",
       "      <td>0</td>\n",
       "      <td>99000.0</td>\n",
       "      <td>222768.0</td>\n",
       "      <td>17370.0</td>\n",
       "      <td>180000.0</td>\n",
       "      <td>...</td>\n",
       "      <td>0</td>\n",
       "      <td>0</td>\n",
       "      <td>0</td>\n",
       "      <td>0</td>\n",
       "      <td>0.0</td>\n",
       "      <td>0.0</td>\n",
       "      <td>0.0</td>\n",
       "      <td>0.0</td>\n",
       "      <td>0.0</td>\n",
       "      <td>3.0</td>\n",
       "    </tr>\n",
       "    <tr>\n",
       "      <th>2</th>\n",
       "      <td>100013</td>\n",
       "      <td>Cash loans</td>\n",
       "      <td>M</td>\n",
       "      <td>Y</td>\n",
       "      <td>Y</td>\n",
       "      <td>0</td>\n",
       "      <td>202500.0</td>\n",
       "      <td>663264.0</td>\n",
       "      <td>69777.0</td>\n",
       "      <td>630000.0</td>\n",
       "      <td>...</td>\n",
       "      <td>0</td>\n",
       "      <td>0</td>\n",
       "      <td>0</td>\n",
       "      <td>0</td>\n",
       "      <td>0.0</td>\n",
       "      <td>0.0</td>\n",
       "      <td>0.0</td>\n",
       "      <td>0.0</td>\n",
       "      <td>1.0</td>\n",
       "      <td>4.0</td>\n",
       "    </tr>\n",
       "    <tr>\n",
       "      <th>3</th>\n",
       "      <td>100028</td>\n",
       "      <td>Cash loans</td>\n",
       "      <td>F</td>\n",
       "      <td>N</td>\n",
       "      <td>Y</td>\n",
       "      <td>2</td>\n",
       "      <td>315000.0</td>\n",
       "      <td>1575000.0</td>\n",
       "      <td>49018.5</td>\n",
       "      <td>1575000.0</td>\n",
       "      <td>...</td>\n",
       "      <td>0</td>\n",
       "      <td>0</td>\n",
       "      <td>0</td>\n",
       "      <td>0</td>\n",
       "      <td>0.0</td>\n",
       "      <td>0.0</td>\n",
       "      <td>0.0</td>\n",
       "      <td>0.0</td>\n",
       "      <td>0.0</td>\n",
       "      <td>3.0</td>\n",
       "    </tr>\n",
       "    <tr>\n",
       "      <th>4</th>\n",
       "      <td>100038</td>\n",
       "      <td>Cash loans</td>\n",
       "      <td>M</td>\n",
       "      <td>Y</td>\n",
       "      <td>N</td>\n",
       "      <td>1</td>\n",
       "      <td>180000.0</td>\n",
       "      <td>625500.0</td>\n",
       "      <td>32067.0</td>\n",
       "      <td>625500.0</td>\n",
       "      <td>...</td>\n",
       "      <td>0</td>\n",
       "      <td>0</td>\n",
       "      <td>0</td>\n",
       "      <td>0</td>\n",
       "      <td>NaN</td>\n",
       "      <td>NaN</td>\n",
       "      <td>NaN</td>\n",
       "      <td>NaN</td>\n",
       "      <td>NaN</td>\n",
       "      <td>NaN</td>\n",
       "    </tr>\n",
       "  </tbody>\n",
       "</table>\n",
       "<p>5 rows × 121 columns</p>\n",
       "</div>"
      ],
      "text/plain": [
       "   SK_ID_CURR NAME_CONTRACT_TYPE CODE_GENDER FLAG_OWN_CAR FLAG_OWN_REALTY  \\\n",
       "0      100001         Cash loans           F            N               Y   \n",
       "1      100005         Cash loans           M            N               Y   \n",
       "2      100013         Cash loans           M            Y               Y   \n",
       "3      100028         Cash loans           F            N               Y   \n",
       "4      100038         Cash loans           M            Y               N   \n",
       "\n",
       "   CNT_CHILDREN  AMT_INCOME_TOTAL  AMT_CREDIT  AMT_ANNUITY  AMT_GOODS_PRICE  \\\n",
       "0             0          135000.0    568800.0      20560.5         450000.0   \n",
       "1             0           99000.0    222768.0      17370.0         180000.0   \n",
       "2             0          202500.0    663264.0      69777.0         630000.0   \n",
       "3             2          315000.0   1575000.0      49018.5        1575000.0   \n",
       "4             1          180000.0    625500.0      32067.0         625500.0   \n",
       "\n",
       "   ... FLAG_DOCUMENT_18 FLAG_DOCUMENT_19 FLAG_DOCUMENT_20 FLAG_DOCUMENT_21  \\\n",
       "0  ...                0                0                0                0   \n",
       "1  ...                0                0                0                0   \n",
       "2  ...                0                0                0                0   \n",
       "3  ...                0                0                0                0   \n",
       "4  ...                0                0                0                0   \n",
       "\n",
       "  AMT_REQ_CREDIT_BUREAU_HOUR  AMT_REQ_CREDIT_BUREAU_DAY  \\\n",
       "0                        0.0                        0.0   \n",
       "1                        0.0                        0.0   \n",
       "2                        0.0                        0.0   \n",
       "3                        0.0                        0.0   \n",
       "4                        NaN                        NaN   \n",
       "\n",
       "   AMT_REQ_CREDIT_BUREAU_WEEK  AMT_REQ_CREDIT_BUREAU_MON  \\\n",
       "0                         0.0                        0.0   \n",
       "1                         0.0                        0.0   \n",
       "2                         0.0                        0.0   \n",
       "3                         0.0                        0.0   \n",
       "4                         NaN                        NaN   \n",
       "\n",
       "   AMT_REQ_CREDIT_BUREAU_QRT  AMT_REQ_CREDIT_BUREAU_YEAR  \n",
       "0                        0.0                         0.0  \n",
       "1                        0.0                         3.0  \n",
       "2                        1.0                         4.0  \n",
       "3                        0.0                         3.0  \n",
       "4                        NaN                         NaN  \n",
       "\n",
       "[5 rows x 121 columns]"
      ]
     },
     "execution_count": 146,
     "metadata": {},
     "output_type": "execute_result"
    }
   ],
   "source": [
    "app_test = pd.read_csv('./data/application_test.csv', nrows= num_rows)\n",
    "print(f\"Le jeu de test comporte {app_test.shape[0]} lignes et {app_test.shape[1]} colonnes.\", )\n",
    "app_test.head()"
   ]
  },
  {
   "cell_type": "markdown",
   "id": "educated-placement",
   "metadata": {},
   "source": [
    "## Transformation du jeu de données\n",
    "\n",
    "L'objectif est de réaliser une analyse exploratoire des données pour les nettoyer, et réaliser un feature engineering."
   ]
  },
  {
   "cell_type": "markdown",
   "id": "mobile-shooting",
   "metadata": {},
   "source": [
    "### Traitement des variables catégorielles\n",
    "\n",
    "L'objectif est d'encoder les variables catégorielles pour pouvoir les utiliser avec nos modèles de machine learning. Comme la plupart des variables ont un faible nombre de catégories uniques, nous allons utiliser le one-hot encoding sur les variables en possédant plus de deux, et le label encoding sur les autres."
   ]
  },
  {
   "cell_type": "code",
   "execution_count": 147,
   "id": "determined-garden",
   "metadata": {},
   "outputs": [
    {
     "data": {
      "text/plain": [
       "NAME_CONTRACT_TYPE             2\n",
       "CODE_GENDER                    2\n",
       "FLAG_OWN_CAR                   2\n",
       "FLAG_OWN_REALTY                2\n",
       "NAME_TYPE_SUITE                7\n",
       "NAME_INCOME_TYPE               5\n",
       "NAME_EDUCATION_TYPE            5\n",
       "NAME_FAMILY_STATUS             5\n",
       "NAME_HOUSING_TYPE              6\n",
       "OCCUPATION_TYPE               18\n",
       "WEEKDAY_APPR_PROCESS_START     7\n",
       "ORGANIZATION_TYPE             58\n",
       "FONDKAPREMONT_MODE             4\n",
       "HOUSETYPE_MODE                 3\n",
       "WALLSMATERIAL_MODE             7\n",
       "EMERGENCYSTATE_MODE            2\n",
       "dtype: int64"
      ]
     },
     "execution_count": 147,
     "metadata": {},
     "output_type": "execute_result"
    }
   ],
   "source": [
    "app_train.select_dtypes('object').apply(pd.Series.nunique, axis = 0)"
   ]
  },
  {
   "cell_type": "code",
   "execution_count": 148,
   "id": "unavailable-handy",
   "metadata": {},
   "outputs": [
    {
     "name": "stdout",
     "output_type": "stream",
     "text": [
      "Le label encoding a été utilisé sur 4 colonnes.\n"
     ]
    }
   ],
   "source": [
    "# Create a label encoder object\n",
    "le = LabelEncoder()\n",
    "le_count = 0\n",
    "\n",
    "# Iterate through the columns\n",
    "for col in app_train:\n",
    "    if app_train[col].dtype == 'object':\n",
    "        # If 2 or fewer unique categories\n",
    "        if len(list(app_train[col].unique())) <= 2:\n",
    "            # Train on the training data\n",
    "            le.fit(app_train[col])\n",
    "            # Transform both training and testing data\n",
    "            app_train[col] = le.transform(app_train[col])\n",
    "            app_test[col] = le.transform(app_test[col])\n",
    "            \n",
    "            # Keep track of how many columns were label encoded\n",
    "            le_count += 1\n",
    "            \n",
    "print(f'Le label encoding a été utilisé sur {le_count} colonnes.')"
   ]
  },
  {
   "cell_type": "code",
   "execution_count": 149,
   "id": "korean-double",
   "metadata": {},
   "outputs": [
    {
     "name": "stdout",
     "output_type": "stream",
     "text": [
      "Le jeu de test comporte désormais 10000 lignes et 237 colonnes.\n",
      "Le jeu d'entrainement comporte désormais 10000 lignes et 237 colonnes.\n"
     ]
    }
   ],
   "source": [
    "# one-hot encoding of categorical variables\n",
    "app_train = pd.get_dummies(app_train)\n",
    "app_test = pd.get_dummies(app_test)\n",
    "\n",
    "print(f\"Le jeu de test comporte désormais {app_test.shape[0]} lignes et {app_test.shape[1]} colonnes.\", )\n",
    "print(f\"Le jeu d'entrainement comporte désormais {app_train.shape[0]} lignes et {app_train.shape[1]} colonnes.\", )"
   ]
  },
  {
   "cell_type": "markdown",
   "id": "embedded-prototype",
   "metadata": {},
   "source": [
    "Le One-Hot encoding a créé plus de variables dans la table d'entrainement que dans celle de test. Les modèles de Machine Learning nécéssitent que les deux jeux possèdent les mêmes features. Il faut donc aligner les deux jeux de données."
   ]
  },
  {
   "cell_type": "code",
   "execution_count": 150,
   "id": "alpine-moscow",
   "metadata": {},
   "outputs": [
    {
     "name": "stdout",
     "output_type": "stream",
     "text": [
      "Le jeu de test comporte désormais 10000 lignes et 235 colonnes.\n",
      "Le jeu d'entrainement comporte désormais 10000 lignes et 236 colonnes.\n"
     ]
    }
   ],
   "source": [
    "train_labels = app_train['TARGET']\n",
    "\n",
    "# Align the training and testing data, keep only columns present in both dataframes\n",
    "app_train, app_test = app_train.align(app_test, join = 'inner', axis = 1)\n",
    "\n",
    "# Add the target back in\n",
    "app_train['TARGET'] = train_labels\n",
    "\n",
    "print(f\"Le jeu de test comporte désormais {app_test.shape[0]} lignes et {app_test.shape[1]} colonnes.\", )\n",
    "print(f\"Le jeu d'entrainement comporte désormais {app_train.shape[0]} lignes et {app_train.shape[1]} colonnes.\", )"
   ]
  },
  {
   "cell_type": "markdown",
   "id": "seven-apple",
   "metadata": {},
   "source": [
    "### Choix des variables"
   ]
  },
  {
   "cell_type": "markdown",
   "id": "becoming-machine",
   "metadata": {},
   "source": [
    "On utilise les n features les plus corrélées à la target."
   ]
  },
  {
   "cell_type": "code",
   "execution_count": 151,
   "id": "earlier-shock",
   "metadata": {},
   "outputs": [],
   "source": [
    "n_features = 25\n",
    "features_names, correlation_with_target = zip(*sorted(list(dict(app_train[app_train.columns[1:]].corr()['TARGET'][:]).items()), key=lambda item: -abs(item[1])))\n",
    "features_names = list(features_names[:n_features])\n",
    "correlation_with_target = list(correlation_with_target[:n_features])"
   ]
  },
  {
   "cell_type": "code",
   "execution_count": 152,
   "id": "imperial-agency",
   "metadata": {},
   "outputs": [
    {
     "data": {
      "image/png": "[encoded data removed]",
      "text/plain": [
       "<Figure size 432x288 with 1 Axes>"
      ]
     },
     "metadata": {
      "needs_background": "light"
     },
     "output_type": "display_data"
    }
   ],
   "source": [
    "ax = sns.barplot(x=features_names, y=correlation_with_target)\n",
    "for item in ax.get_xticklabels():\n",
    "        item.set_rotation(90)"
   ]
  },
  {
   "cell_type": "code",
   "execution_count": 153,
   "id": "smaller-jefferson",
   "metadata": {},
   "outputs": [
    {
     "data": {
      "image/png": "[encoded data removed]",
      "text/plain": [
       "<Figure size 792x648 with 2 Axes>"
      ]
     },
     "metadata": {
      "needs_background": "light"
     },
     "output_type": "display_data"
    }
   ],
   "source": [
    "# affichage de la matrice de corrélation\n",
    "short_df = pd.DataFrame(data=app_train, columns=features_names)\n",
    "corr = short_df.corr()\n",
    "mask = np.triu(np.ones_like(corr, dtype=bool))\n",
    "f, ax = plt.subplots(figsize=(11, 9))\n",
    "cmap = sns.diverging_palette(230, 20, as_cmap=True)\n",
    "sns.heatmap(corr, mask=mask, cmap=cmap, vmax=.8, center=0,\n",
    "square=True, linewidths=.5, cbar_kws={\"shrink\": .5})\n",
    "plt.show()"
   ]
  },
  {
   "cell_type": "markdown",
   "id": "lonely-ceremony",
   "metadata": {},
   "source": [
    "### Valeurs manquantes"
   ]
  },
  {
   "cell_type": "code",
   "execution_count": 154,
   "id": "center-avenue",
   "metadata": {},
   "outputs": [
    {
     "name": "stdout",
     "output_type": "stream",
     "text": [
      "Your selected dataframe has 25 columns.\n",
      "There are 7 columns that have missing values.\n"
     ]
    },
    {
     "data": {
      "text/html": [
       "<div>\n",
       "<style scoped>\n",
       "    .dataframe tbody tr th:only-of-type {\n",
       "        vertical-align: middle;\n",
       "    }\n",
       "\n",
       "    .dataframe tbody tr th {\n",
       "        vertical-align: top;\n",
       "    }\n",
       "\n",
       "    .dataframe thead th {\n",
       "        text-align: right;\n",
       "    }\n",
       "</style>\n",
       "<table border=\"1\" class=\"dataframe\">\n",
       "  <thead>\n",
       "    <tr style=\"text-align: right;\">\n",
       "      <th></th>\n",
       "      <th>Missing Values</th>\n",
       "      <th>% of Total Values</th>\n",
       "    </tr>\n",
       "  </thead>\n",
       "  <tbody>\n",
       "    <tr>\n",
       "      <th>OWN_CAR_AGE</th>\n",
       "      <td>6662</td>\n",
       "      <td>66.6</td>\n",
       "    </tr>\n",
       "    <tr>\n",
       "      <th>EXT_SOURCE_1</th>\n",
       "      <td>5647</td>\n",
       "      <td>56.5</td>\n",
       "    </tr>\n",
       "    <tr>\n",
       "      <th>EXT_SOURCE_3</th>\n",
       "      <td>1995</td>\n",
       "      <td>20.0</td>\n",
       "    </tr>\n",
       "    <tr>\n",
       "      <th>DEF_30_CNT_SOCIAL_CIRCLE</th>\n",
       "      <td>42</td>\n",
       "      <td>0.4</td>\n",
       "    </tr>\n",
       "    <tr>\n",
       "      <th>DEF_60_CNT_SOCIAL_CIRCLE</th>\n",
       "      <td>42</td>\n",
       "      <td>0.4</td>\n",
       "    </tr>\n",
       "    <tr>\n",
       "      <th>EXT_SOURCE_2</th>\n",
       "      <td>26</td>\n",
       "      <td>0.3</td>\n",
       "    </tr>\n",
       "    <tr>\n",
       "      <th>AMT_GOODS_PRICE</th>\n",
       "      <td>7</td>\n",
       "      <td>0.1</td>\n",
       "    </tr>\n",
       "  </tbody>\n",
       "</table>\n",
       "</div>"
      ],
      "text/plain": [
       "                          Missing Values  % of Total Values\n",
       "OWN_CAR_AGE                         6662               66.6\n",
       "EXT_SOURCE_1                        5647               56.5\n",
       "EXT_SOURCE_3                        1995               20.0\n",
       "DEF_30_CNT_SOCIAL_CIRCLE              42                0.4\n",
       "DEF_60_CNT_SOCIAL_CIRCLE              42                0.4\n",
       "EXT_SOURCE_2                          26                0.3\n",
       "AMT_GOODS_PRICE                        7                0.1"
      ]
     },
     "execution_count": 154,
     "metadata": {},
     "output_type": "execute_result"
    }
   ],
   "source": [
    "# Function to calculate missing values by column# Funct \n",
    "def missing_values_table(df):\n",
    "        # Total missing values\n",
    "        mis_val = df.isnull().sum()\n",
    "        \n",
    "        # Percentage of missing values\n",
    "        mis_val_percent = 100 * df.isnull().sum() / len(df)\n",
    "        \n",
    "        # Make a table with the results\n",
    "        mis_val_table = pd.concat([mis_val, mis_val_percent], axis=1)\n",
    "        \n",
    "        # Rename the columns\n",
    "        mis_val_table_ren_columns = mis_val_table.rename(\n",
    "        columns = {0 : 'Missing Values', 1 : '% of Total Values'})\n",
    "        \n",
    "        # Sort the table by percentage of missing descending\n",
    "        mis_val_table_ren_columns = mis_val_table_ren_columns[\n",
    "            mis_val_table_ren_columns.iloc[:,1] != 0].sort_values(\n",
    "        '% of Total Values', ascending=False).round(1)\n",
    "        \n",
    "        # Print some summary information\n",
    "        print (\"Your selected dataframe has \" + str(df.shape[1]) + \" columns.\\n\"      \n",
    "            \"There are \" + str(mis_val_table_ren_columns.shape[0]) +\n",
    "              \" columns that have missing values.\")\n",
    "        \n",
    "        # Return the dataframe with missing information\n",
    "        return mis_val_table_ren_columns\n",
    "    \n",
    "missing_values_t = missing_values_table(short_df)\n",
    "missing_values_t.head(20)"
   ]
  },
  {
   "cell_type": "markdown",
   "id": "genuine-reverse",
   "metadata": {},
   "source": [
    "### Traitement des valeurs aberrantes"
   ]
  },
  {
   "cell_type": "code",
   "execution_count": 155,
   "id": "fixed-static",
   "metadata": {},
   "outputs": [
    {
     "name": "stdout",
     "output_type": "stream",
     "text": [
      "count    8005.000000\n",
      "mean        0.511554\n",
      "std         0.196439\n",
      "min         0.000527\n",
      "25%         0.372334\n",
      "50%         0.533482\n",
      "75%         0.670652\n",
      "max         0.885488\n",
      "Name: EXT_SOURCE_3, dtype: float64 \n",
      "\n",
      "count    9974.000000\n",
      "mean        0.515509\n",
      "std         0.189522\n",
      "min         0.000074\n",
      "25%         0.393858\n",
      "50%         0.565894\n",
      "75%         0.664474\n",
      "max         0.855000\n",
      "Name: EXT_SOURCE_2, dtype: float64 \n",
      "\n",
      "count    4353.000000\n",
      "mean        0.504268\n",
      "std         0.209818\n",
      "min         0.024417\n",
      "25%         0.332779\n",
      "50%         0.511269\n",
      "75%         0.673915\n",
      "max         0.929394\n",
      "Name: EXT_SOURCE_1, dtype: float64 \n",
      "\n",
      "count    10000.000000\n",
      "mean        43.904858\n",
      "std         11.891860\n",
      "min         21.109589\n",
      "25%         33.941781\n",
      "50%         43.242466\n",
      "75%         53.685616\n",
      "max         68.931507\n",
      "Name: DAYS_BIRTH, dtype: float64 \n",
      "\n",
      "count    10000.000000\n",
      "mean         2.026600\n",
      "std          0.504894\n",
      "min          1.000000\n",
      "25%          2.000000\n",
      "50%          2.000000\n",
      "75%          2.000000\n",
      "max          3.000000\n",
      "Name: REGION_RATING_CLIENT_W_CITY, dtype: float64 \n",
      "\n",
      "count    10000.000000\n",
      "mean         8.173646\n",
      "std          4.143865\n",
      "min         -0.000000\n",
      "25%          4.676712\n",
      "50%          8.841096\n",
      "75%         11.772603\n",
      "max         17.063014\n",
      "Name: DAYS_ID_PUBLISH, dtype: float64 \n",
      "\n",
      "count    10000.0000\n",
      "mean         2.0472\n",
      "std          0.5099\n",
      "min          1.0000\n",
      "25%          2.0000\n",
      "50%          2.0000\n",
      "75%          2.0000\n",
      "max          3.0000\n",
      "Name: REGION_RATING_CLIENT, dtype: float64 \n",
      "\n",
      "count    10000.000000\n",
      "mean         2.630704\n",
      "std          2.265145\n",
      "min         -0.000000\n",
      "25%          0.715068\n",
      "50%          2.060274\n",
      "75%          4.269178\n",
      "max         10.635616\n",
      "Name: DAYS_LAST_PHONE_CHANGE, dtype: float64 \n",
      "\n",
      "count    10000.000000\n",
      "mean         0.341100\n",
      "std          0.474103\n",
      "min          0.000000\n",
      "25%          0.000000\n",
      "50%          0.000000\n",
      "75%          1.000000\n",
      "max          1.000000\n",
      "Name: CODE_GENDER, dtype: float64 \n",
      "\n",
      "count    10000.00000\n",
      "mean         0.23540\n",
      "std          0.42427\n",
      "min          0.00000\n",
      "25%          0.00000\n",
      "50%          0.00000\n",
      "75%          0.00000\n",
      "max          1.00000\n",
      "Name: REG_CITY_NOT_WORK_CITY, dtype: float64 \n",
      "\n",
      "count    10000.000000\n",
      "mean        13.661600\n",
      "std          9.700252\n",
      "min         -0.000000\n",
      "25%          5.490411\n",
      "50%         12.268493\n",
      "75%         20.523973\n",
      "max         57.482192\n",
      "Name: DAYS_REGISTRATION, dtype: float64 \n",
      "\n",
      "count    9958.000000\n",
      "mean        0.149026\n",
      "std         0.453839\n",
      "min         0.000000\n",
      "25%         0.000000\n",
      "50%         0.000000\n",
      "75%         0.000000\n",
      "max         5.000000\n",
      "Name: DEF_30_CNT_SOCIAL_CIRCLE, dtype: float64 \n",
      "\n",
      "count    9.993000e+03\n",
      "mean     5.403851e+05\n",
      "std      3.708941e+05\n",
      "min      4.500000e+04\n",
      "25%      2.385000e+05\n",
      "50%      4.500000e+05\n",
      "75%      6.840000e+05\n",
      "max      2.961000e+06\n",
      "Name: AMT_GOODS_PRICE, dtype: float64 \n",
      "\n",
      "count    9958.000000\n",
      "mean        0.104439\n",
      "std         0.372471\n",
      "min         0.000000\n",
      "25%         0.000000\n",
      "50%         0.000000\n",
      "75%         0.000000\n",
      "max         5.000000\n",
      "Name: DEF_60_CNT_SOCIAL_CIRCLE, dtype: float64 \n",
      "\n",
      "count    1.000000e+04\n",
      "mean     6.007531e+05\n",
      "std      4.032643e+05\n",
      "min      4.500000e+04\n",
      "25%      2.700000e+05\n",
      "50%      5.130000e+05\n",
      "75%      8.100000e+05\n",
      "max      2.961000e+06\n",
      "Name: AMT_CREDIT, dtype: float64 \n",
      "\n",
      "count    10000.000000\n",
      "mean         0.080400\n",
      "std          0.271925\n",
      "min          0.000000\n",
      "25%          0.000000\n",
      "50%          0.000000\n",
      "75%          0.000000\n",
      "max          1.000000\n",
      "Name: REG_CITY_NOT_LIVE_CITY, dtype: float64 \n",
      "\n",
      "count    10000.00000\n",
      "mean         0.71070\n",
      "std          0.45346\n",
      "min          0.00000\n",
      "25%          0.00000\n",
      "50%          1.00000\n",
      "75%          1.00000\n",
      "max          1.00000\n",
      "Name: FLAG_DOCUMENT_3, dtype: float64 \n",
      "\n",
      "count    10000.00000\n",
      "mean         0.82250\n",
      "std          0.38211\n",
      "min          0.00000\n",
      "25%          1.00000\n",
      "50%          1.00000\n",
      "75%          1.00000\n",
      "max          1.00000\n",
      "Name: FLAG_EMP_PHONE, dtype: float64 \n",
      "\n",
      "count    10000.000000\n",
      "mean         0.177200\n",
      "std          0.381857\n",
      "min          0.000000\n",
      "25%          0.000000\n",
      "50%          0.000000\n",
      "75%          0.000000\n",
      "max          1.000000\n",
      "Name: NAME_INCOME_TYPE_Pensioner, dtype: float64 \n",
      "\n",
      "count    10000.000000\n",
      "mean         0.099500\n",
      "std          0.299347\n",
      "min          0.000000\n",
      "25%          0.000000\n",
      "50%          0.000000\n",
      "75%          0.000000\n",
      "max          1.000000\n",
      "Name: NAME_CONTRACT_TYPE, dtype: float64 \n",
      "\n",
      "count    10000.000000\n",
      "mean      -172.114479\n",
      "std        384.833742\n",
      "min      -1000.665753\n",
      "25%          0.785616\n",
      "50%          3.353425\n",
      "75%          7.721233\n",
      "max         42.827397\n",
      "Name: DAYS_EMPLOYED, dtype: float64 \n",
      "\n",
      "count    3338.000000\n",
      "mean       11.918514\n",
      "std        11.852680\n",
      "min         0.000000\n",
      "25%         5.000000\n",
      "50%         9.000000\n",
      "75%        15.000000\n",
      "max        65.000000\n",
      "Name: OWN_CAR_AGE, dtype: float64 \n",
      "\n",
      "count    10000.000000\n",
      "mean         0.416300\n",
      "std          0.722251\n",
      "min          0.000000\n",
      "25%          0.000000\n",
      "50%          0.000000\n",
      "75%          1.000000\n",
      "max          7.000000\n",
      "Name: CNT_CHILDREN, dtype: float64 \n",
      "\n",
      "count    10000.000000\n",
      "mean         0.282100\n",
      "std          0.450044\n",
      "min          0.000000\n",
      "25%          0.000000\n",
      "50%          0.000000\n",
      "75%          1.000000\n",
      "max          1.000000\n",
      "Name: FLAG_PHONE, dtype: float64 \n",
      "\n",
      "count    10000.00000\n",
      "mean        12.07460\n",
      "std          3.21852\n",
      "min          1.00000\n",
      "25%         10.00000\n",
      "50%         12.00000\n",
      "75%         14.00000\n",
      "max         23.00000\n",
      "Name: HOUR_APPR_PROCESS_START, dtype: float64 \n",
      "\n"
     ]
    }
   ],
   "source": [
    "for feat in features_names:\n",
    "    if 'DAYS' in feat: # changing days to years\n",
    "        print((app_train[feat] / -365).describe(), '\\n')\n",
    "    else:\n",
    "        print(app_train[feat].describe(), '\\n')"
   ]
  },
  {
   "cell_type": "code",
   "execution_count": 156,
   "id": "presidential-handy",
   "metadata": {},
   "outputs": [
    {
     "data": {
      "text/plain": [
       "Text(0.5, 0, 'Days Employment')"
      ]
     },
     "execution_count": 156,
     "metadata": {},
     "output_type": "execute_result"
    },
    {
     "data": {
      "image/png": "[encoded data removed]",
      "text/plain": [
       "<Figure size 432x288 with 1 Axes>"
      ]
     },
     "metadata": {
      "needs_background": "light"
     },
     "output_type": "display_data"
    }
   ],
   "source": [
    "app_train['DAYS_EMPLOYED'].plot.hist(title = 'Days Employment Histogram')\n",
    "plt.xlabel('Days Employment')"
   ]
  },
  {
   "cell_type": "code",
   "execution_count": 157,
   "id": "twenty-elevation",
   "metadata": {},
   "outputs": [
    {
     "data": {
      "text/plain": [
       "Text(0.5, 0, 'Days Employment')"
      ]
     },
     "execution_count": 157,
     "metadata": {},
     "output_type": "execute_result"
    },
    {
     "data": {
      "image/png": "[encoded data removed]",
      "text/plain": [
       "<Figure size 432x288 with 1 Axes>"
      ]
     },
     "metadata": {
      "needs_background": "light"
     },
     "output_type": "display_data"
    }
   ],
   "source": [
    "app_train['DAYS_EMPLOYED'].replace(365243, np.nan, inplace= True)\n",
    "app_train['DAYS_EMPLOYED'].plot.hist(title = 'Days Employment Histogram after correction')\n",
    "plt.xlabel('Days Employment')"
   ]
  },
  {
   "cell_type": "markdown",
   "id": "sitting-pricing",
   "metadata": {},
   "source": [
    "## Comparaison des modèles et synthèse"
   ]
  },
  {
   "cell_type": "markdown",
   "id": "bearing-census",
   "metadata": {},
   "source": [
    "Métrique"
   ]
  },
  {
   "cell_type": "code",
   "execution_count": 158,
   "id": "divine-loading",
   "metadata": {},
   "outputs": [],
   "source": [
    "def roc_auc(model, predictor, xtest, ytest):\n",
    "    ns_probs = [0 for _ in range(len(ytest))]\n",
    "    lr_probs = predictor.predict_proba(xtest)[:, 1]\n",
    "    # calculate scores\n",
    "    ns_auc = roc_auc_score(ytest, ns_probs)\n",
    "    lr_auc = roc_auc_score(ytest, lr_probs)\n",
    "    # summarize scores\n",
    "    print('Hasard: ROC AUC=%.3f' % (ns_auc))\n",
    "    print(f'{model}: ROC AUC=%.3f' % (lr_auc))\n",
    "    # calculate roc curves\n",
    "    ns_fpr, ns_tpr, _ = roc_curve(ytest, ns_probs)\n",
    "    lr_fpr, lr_tpr, _ = roc_curve(ytest, lr_probs)\n",
    "    # plot the roc curve for the model\n",
    "    plt.plot(ns_fpr, ns_tpr, linestyle='--', label='Hasard')\n",
    "    plt.plot(lr_fpr, lr_tpr, marker='.', label=model)\n",
    "    # axis labels\n",
    "    plt.xlabel('Taux de faux positifs')\n",
    "    plt.ylabel('Taux de vrais positifs')\n",
    "    # show the legend\n",
    "    plt.legend()\n",
    "    # show the plot\n",
    "    plt.show()"
   ]
  },
  {
   "cell_type": "markdown",
   "id": "indoor-legislation",
   "metadata": {},
   "source": [
    "Séparation du jeux de données"
   ]
  },
  {
   "cell_type": "code",
   "execution_count": 159,
   "id": "cognitive-battlefield",
   "metadata": {},
   "outputs": [],
   "source": [
    "y = app_train['TARGET']\n",
    "X = app_train[features_names].copy()\n",
    "X_train, X_test, y_train, y_test = train_test_split(X, y, random_state=42, test_size=0.2)\n",
    "\n",
    "imputer = SimpleImputer(strategy = 'median')\n",
    "scaler = MinMaxScaler(feature_range = (0, 1))\n",
    "\n",
    "imputer.fit(X_train)\n",
    "X_train = imputer.transform(X_train)\n",
    "X_test = imputer.transform(X_test)\n",
    "\n",
    "scaler.fit(X_train)\n",
    "X_train = scaler.transform(X_train)\n",
    "X_test = scaler.transform(X_test)"
   ]
  },
  {
   "cell_type": "markdown",
   "id": "incorporate-stomach",
   "metadata": {},
   "source": [
    "Regression Logistique"
   ]
  },
  {
   "cell_type": "code",
   "execution_count": 160,
   "id": "thermal-banner",
   "metadata": {},
   "outputs": [
    {
     "name": "stdout",
     "output_type": "stream",
     "text": [
      "Hasard: ROC AUC=0.500\n",
      "Regression Logistique: ROC AUC=0.789\n"
     ]
    },
    {
     "data": {
      "image/png": "[encoded data removed]",
      "text/plain": [
       "<Figure size 432x288 with 1 Axes>"
      ]
     },
     "metadata": {
      "needs_background": "light"
     },
     "output_type": "display_data"
    }
   ],
   "source": [
    "reg_log = LogisticRegression(solver='newton-cg')\n",
    "reg_log.fit(X_train, y_train)\n",
    "\n",
    "roc_auc(\"Regression Logistique\", reg_log, X_test, y_test)"
   ]
  },
  {
   "cell_type": "markdown",
   "id": "completed-intranet",
   "metadata": {},
   "source": [
    "Random Forest"
   ]
  },
  {
   "cell_type": "code",
   "execution_count": 161,
   "id": "public-citation",
   "metadata": {},
   "outputs": [
    {
     "name": "stderr",
     "output_type": "stream",
     "text": [
      "[Parallel(n_jobs=-1)]: Using backend ThreadingBackend with 4 concurrent workers.\n",
      "[Parallel(n_jobs=-1)]: Done  42 tasks      | elapsed:    0.1s\n"
     ]
    },
    {
     "name": "stdout",
     "output_type": "stream",
     "text": [
      "Hasard: ROC AUC=0.500\n",
      "Random Forest: ROC AUC=0.739\n"
     ]
    },
    {
     "name": "stderr",
     "output_type": "stream",
     "text": [
      "[Parallel(n_jobs=-1)]: Done 100 out of 100 | elapsed:    0.3s finished\n",
      "[Parallel(n_jobs=4)]: Using backend ThreadingBackend with 4 concurrent workers.\n",
      "[Parallel(n_jobs=4)]: Done  42 tasks      | elapsed:    0.0s\n",
      "[Parallel(n_jobs=4)]: Done 100 out of 100 | elapsed:    0.0s finished\n"
     ]
    },
    {
     "data": {
      "image/png": "[encoded data removed]",
      "text/plain": [
       "<Figure size 432x288 with 1 Axes>"
      ]
     },
     "metadata": {
      "needs_background": "light"
     },
     "output_type": "display_data"
    }
   ],
   "source": [
    "random_forest = RandomForestClassifier(n_estimators = 100, random_state = 50, verbose = 1, n_jobs = -1)\n",
    "random_forest.fit(X_train, y_train)\n",
    "roc_auc(\"Random Forest\", random_forest, X_test, y_test)"
   ]
  },
  {
   "cell_type": "markdown",
   "id": "adjusted-siemens",
   "metadata": {},
   "source": [
    "SVM à Noyau"
   ]
  },
  {
   "cell_type": "code",
   "execution_count": 162,
   "id": "inclusive-delaware",
   "metadata": {},
   "outputs": [
    {
     "name": "stdout",
     "output_type": "stream",
     "text": [
      "Hasard: ROC AUC=0.500\n",
      "SVM à Noyau: ROC AUC=0.528\n"
     ]
    },
    {
     "data": {
      "image/png": "[encoded data removed]",
      "text/plain": [
       "<Figure size 432x288 with 1 Axes>"
      ]
     },
     "metadata": {
      "needs_background": "light"
     },
     "output_type": "display_data"
    }
   ],
   "source": [
    "svm_classifier = svm.SVC(kernel='rbf', gamma=0.01, probability=True)\n",
    "\n",
    "svm_classifier.fit(X_train, y_train)\n",
    "\n",
    "roc_auc(\"SVM à Noyau\", svm_classifier, X_test, y_test)"
   ]
  },
  {
   "cell_type": "markdown",
   "id": "reserved-continent",
   "metadata": {},
   "source": [
    "Gradient Boosting"
   ]
  },
  {
   "cell_type": "code",
   "execution_count": 165,
   "id": "modular-fabric",
   "metadata": {},
   "outputs": [
    {
     "name": "stdout",
     "output_type": "stream",
     "text": [
      "Starting LightGBM. Shape: (10000, 25)\n",
      "[LightGBM] [Warning] num_threads is set with n_jobs=-1, nthread=4 will be ignored. Current value: num_threads=-1\n",
      "Training until validation scores don't improve for 200 rounds\n",
      "[200]\ttraining's auc: 0.825388\ttraining's binary_logloss: 0.216771\tvalid_1's auc: 0.751508\tvalid_1's binary_logloss: 0.269467\n",
      "Early stopping, best iteration is:\n",
      "[16]\ttraining's auc: 0.758524\ttraining's binary_logloss: 0.255451\tvalid_1's auc: 0.75337\tvalid_1's binary_logloss: 0.291056\n",
      "[LightGBM] [Warning] num_threads is set with n_jobs=-1, nthread=4 will be ignored. Current value: num_threads=-1\n",
      "Training until validation scores don't improve for 200 rounds\n",
      "[200]\ttraining's auc: 0.822363\ttraining's binary_logloss: 0.223509\tvalid_1's auc: 0.801067\tvalid_1's binary_logloss: 0.202723\n",
      "Early stopping, best iteration is:\n",
      "[141]\ttraining's auc: 0.809786\ttraining's binary_logloss: 0.229609\tvalid_1's auc: 0.803631\tvalid_1's binary_logloss: 0.204193\n",
      "[LightGBM] [Warning] num_threads is set with n_jobs=-1, nthread=4 will be ignored. Current value: num_threads=-1\n",
      "Training until validation scores don't improve for 200 rounds\n",
      "[200]\ttraining's auc: 0.827362\ttraining's binary_logloss: 0.21674\tvalid_1's auc: 0.739759\tvalid_1's binary_logloss: 0.265785\n",
      "[400]\ttraining's auc: 0.856163\ttraining's binary_logloss: 0.203417\tvalid_1's auc: 0.740662\tvalid_1's binary_logloss: 0.265819\n",
      "Early stopping, best iteration is:\n",
      "[258]\ttraining's auc: 0.836819\ttraining's binary_logloss: 0.212234\tvalid_1's auc: 0.744288\tvalid_1's binary_logloss: 0.264985\n",
      "[LightGBM] [Warning] num_threads is set with n_jobs=-1, nthread=4 will be ignored. Current value: num_threads=-1\n",
      "Training until validation scores don't improve for 200 rounds\n",
      "[200]\ttraining's auc: 0.822831\ttraining's binary_logloss: 0.219365\tvalid_1's auc: 0.780315\tvalid_1's binary_logloss: 0.247182\n",
      "[400]\ttraining's auc: 0.85308\ttraining's binary_logloss: 0.206046\tvalid_1's auc: 0.781331\tvalid_1's binary_logloss: 0.245904\n",
      "[600]\ttraining's auc: 0.876611\ttraining's binary_logloss: 0.19573\tvalid_1's auc: 0.782449\tvalid_1's binary_logloss: 0.245409\n",
      "[800]\ttraining's auc: 0.894602\ttraining's binary_logloss: 0.187121\tvalid_1's auc: 0.780906\tvalid_1's binary_logloss: 0.246402\n",
      "Early stopping, best iteration is:\n",
      "[611]\ttraining's auc: 0.877613\ttraining's binary_logloss: 0.195261\tvalid_1's auc: 0.782822\tvalid_1's binary_logloss: 0.245167\n",
      "[LightGBM] [Warning] num_threads is set with n_jobs=-1, nthread=4 will be ignored. Current value: num_threads=-1\n",
      "Training until validation scores don't improve for 200 rounds\n",
      "[200]\ttraining's auc: 0.823714\ttraining's binary_logloss: 0.220138\tvalid_1's auc: 0.789263\tvalid_1's binary_logloss: 0.235992\n",
      "[400]\ttraining's auc: 0.854126\ttraining's binary_logloss: 0.206677\tvalid_1's auc: 0.783807\tvalid_1's binary_logloss: 0.236547\n",
      "Early stopping, best iteration is:\n",
      "[242]\ttraining's auc: 0.830931\ttraining's binary_logloss: 0.216929\tvalid_1's auc: 0.78973\tvalid_1's binary_logloss: 0.235642\n",
      "[LightGBM] [Warning] num_threads is set with n_jobs=-1, nthread=4 will be ignored. Current value: num_threads=-1\n",
      "Training until validation scores don't improve for 200 rounds\n",
      "[200]\ttraining's auc: 0.824247\ttraining's binary_logloss: 0.219929\tvalid_1's auc: 0.767261\tvalid_1's binary_logloss: 0.233638\n",
      "[400]\ttraining's auc: 0.855268\ttraining's binary_logloss: 0.206066\tvalid_1's auc: 0.765432\tvalid_1's binary_logloss: 0.234817\n",
      "Early stopping, best iteration is:\n",
      "[211]\ttraining's auc: 0.826296\ttraining's binary_logloss: 0.219037\tvalid_1's auc: 0.768358\tvalid_1's binary_logloss: 0.233399\n",
      "[LightGBM] [Warning] num_threads is set with n_jobs=-1, nthread=4 will be ignored. Current value: num_threads=-1\n",
      "Training until validation scores don't improve for 200 rounds\n",
      "[200]\ttraining's auc: 0.826378\ttraining's binary_logloss: 0.220417\tvalid_1's auc: 0.737997\tvalid_1's binary_logloss: 0.234494\n",
      "[400]\ttraining's auc: 0.858201\ttraining's binary_logloss: 0.206126\tvalid_1's auc: 0.741798\tvalid_1's binary_logloss: 0.234436\n",
      "Early stopping, best iteration is:\n",
      "[338]\ttraining's auc: 0.848921\ttraining's binary_logloss: 0.209978\tvalid_1's auc: 0.742951\tvalid_1's binary_logloss: 0.233813\n",
      "[LightGBM] [Warning] num_threads is set with n_jobs=-1, nthread=4 will be ignored. Current value: num_threads=-1\n",
      "Training until validation scores don't improve for 200 rounds\n",
      "[200]\ttraining's auc: 0.827723\ttraining's binary_logloss: 0.218377\tvalid_1's auc: 0.715714\tvalid_1's binary_logloss: 0.255319\n",
      "[400]\ttraining's auc: 0.859047\ttraining's binary_logloss: 0.204053\tvalid_1's auc: 0.712825\tvalid_1's binary_logloss: 0.256599\n",
      "Early stopping, best iteration is:\n",
      "[216]\ttraining's auc: 0.830897\ttraining's binary_logloss: 0.216969\tvalid_1's auc: 0.717232\tvalid_1's binary_logloss: 0.254867\n",
      "[LightGBM] [Warning] num_threads is set with n_jobs=-1, nthread=4 will be ignored. Current value: num_threads=-1\n",
      "Training until validation scores don't improve for 200 rounds\n",
      "[200]\ttraining's auc: 0.825913\ttraining's binary_logloss: 0.219905\tvalid_1's auc: 0.718421\tvalid_1's binary_logloss: 0.240404\n",
      "Early stopping, best iteration is:\n",
      "[150]\ttraining's auc: 0.816394\ttraining's binary_logloss: 0.224695\tvalid_1's auc: 0.715323\tvalid_1's binary_logloss: 0.24016\n",
      "[LightGBM] [Warning] num_threads is set with n_jobs=-1, nthread=4 will be ignored. Current value: num_threads=-1\n",
      "Training until validation scores don't improve for 200 rounds\n",
      "[200]\ttraining's auc: 0.82332\ttraining's binary_logloss: 0.222219\tvalid_1's auc: 0.730112\tvalid_1's binary_logloss: 0.222706\n",
      "[400]\ttraining's auc: 0.854084\ttraining's binary_logloss: 0.208305\tvalid_1's auc: 0.747291\tvalid_1's binary_logloss: 0.220981\n",
      "Early stopping, best iteration is:\n",
      "[375]\ttraining's auc: 0.850645\ttraining's binary_logloss: 0.209857\tvalid_1's auc: 0.74768\tvalid_1's binary_logloss: 0.220805\n",
      "AUC score 0.748907\n"
     ]
    },
    {
     "data": {
      "image/png": "[encoded data removed]",
      "text/plain": [
       "<Figure size 576x720 with 1 Axes>"
      ]
     },
     "metadata": {
      "needs_background": "light"
     },
     "output_type": "display_data"
    }
   ],
   "source": [
    "def kfold_lightgbm(num_folds, stratified = False):\n",
    "    # Divide in training/validation and test data\n",
    "    print(f\"Starting LightGBM. Shape: {X.shape}\")\n",
    "    folds = KFold(n_splits= num_folds, shuffle=True, random_state=1001)\n",
    "    # Create arrays and dataframes to store results\n",
    "    oof_preds = np.zeros(X.shape[0])\n",
    "    feature_importance_df = pd.DataFrame()\n",
    "    for n_fold, (train_idx, valid_idx) in enumerate(folds.split(X, y)):\n",
    "        train_x, train_y = X.iloc[train_idx], y.iloc[train_idx]\n",
    "        valid_x, valid_y = X.iloc[valid_idx], y.iloc[valid_idx]\n",
    "\n",
    "        # LightGBM parameters found by Bayesian optimization\n",
    "        clf = LGBMClassifier(\n",
    "            nthread=4,\n",
    "            n_estimators=10000,\n",
    "            learning_rate=0.02,\n",
    "            num_leaves=34,\n",
    "            colsample_bytree=0.9497036,\n",
    "            subsample=0.8715623,\n",
    "            max_depth=8,\n",
    "            reg_alpha=0.041545473,\n",
    "            reg_lambda=0.0735294,\n",
    "            min_split_gain=0.0222415,\n",
    "            min_child_weight=39.3259775,\n",
    "            silent=-1,\n",
    "            verbose=-1, )\n",
    "\n",
    "        clf.fit(train_x, train_y, eval_set=[(train_x, train_y), (valid_x, valid_y)], \n",
    "            eval_metric= 'auc', verbose= 200, early_stopping_rounds= 200)\n",
    "\n",
    "        oof_preds[valid_idx] = clf.predict_proba(valid_x, num_iteration=clf.best_iteration_)[:, 1]\n",
    "\n",
    "        fold_importance_df = pd.DataFrame()\n",
    "        fold_importance_df[\"feature\"] = features_names\n",
    "        fold_importance_df[\"importance\"] = clf.feature_importances_\n",
    "        fold_importance_df[\"fold\"] = n_fold + 1\n",
    "        feature_importance_df = pd.concat([feature_importance_df, fold_importance_df], axis=0)\n",
    "        del clf, train_x, train_y, valid_x, valid_y\n",
    "        gc.collect()\n",
    "    print('AUC score %.6f' % roc_auc_score(y, oof_preds))\n",
    "    display_importances(feature_importance_df)\n",
    "    return feature_importance_df\n",
    "\n",
    "def display_importances(feature_importance_df_):\n",
    "    cols = feature_importance_df_[[\"feature\", \"importance\"]].groupby(\"feature\").mean().sort_values(by=\"importance\", ascending=False)[:40].index\n",
    "    best_features = feature_importance_df_.loc[feature_importance_df_.feature.isin(cols)]\n",
    "    plt.figure(figsize=(8, 10))\n",
    "    sns.barplot(x=\"importance\", y=\"feature\", data=best_features.sort_values(by=\"importance\", ascending=False))\n",
    "    plt.title('LightGBM Features (avg over folds)')\n",
    "    plt.tight_layout()\n",
    "\n",
    "feat_importance = kfold_lightgbm(10, stratified=False)"
   ]
  },
  {
   "cell_type": "markdown",
   "id": "liable-kelly",
   "metadata": {},
   "source": [
    "## Interprétabilité du modèle"
   ]
  },
  {
   "cell_type": "markdown",
   "id": "joined-logic",
   "metadata": {},
   "source": [
    "## Conclusion"
   ]
  }
 ],
 "metadata": {
  "kernelspec": {
   "display_name": "Python 3",
   "language": "python",
   "name": "python3"
  },
  "language_info": {
   "codemirror_mode": {
    "name": "ipython",
    "version": 3
   },
   "file_extension": ".py",
   "mimetype": "text/x-python",
   "name": "python",
   "nbconvert_exporter": "python",
   "pygments_lexer": "ipython3",
   "version": "3.9.1"
  }
 },
 "nbformat": 4,
 "nbformat_minor": 5
}
